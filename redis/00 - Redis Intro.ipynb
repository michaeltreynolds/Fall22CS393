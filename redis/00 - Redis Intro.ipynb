{
  "cells": [
    {
      "cell_type": "markdown",
      "metadata": {
        "id": "view-in-github",
        "colab_type": "text"
      },
      "source": [
        "<a href=\"https://colab.research.google.com/github/michaeltreynolds/Fall22CS393/blob/main/redis/00%20-%20Redis%20Intro.ipynb\" target=\"_parent\"><img src=\"https://colab.research.google.com/assets/colab-badge.svg\" alt=\"Open In Colab\"/></a>"
      ]
    },
    {
      "cell_type": "markdown",
      "metadata": {
        "id": "PZLpzkKbPg70"
      },
      "source": []
    },
    {
      "cell_type": "code",
      "execution_count": null,
      "metadata": {
        "id": "EBn045_VPg71"
      },
      "outputs": [],
      "source": [
        "# Setup redis\n",
        "%pip install redis"
      ]
    },
    {
      "cell_type": "code",
      "execution_count": null,
      "metadata": {
        "id": "1_FUQGP6Pg72"
      },
      "outputs": [],
      "source": [
        "fullName = \"Full Name\" # <--- PUT YOUR FULL NAME HERE (e.g. Jimmy Jones)\n",
        "\n",
        "assert fullName != \"Full Name\"\n",
        "\n",
        "password = input(\"Enter the password displayed on the projector in class! \\nPassword: \")\n",
        "print(f\"You entered: {password}\")"
      ]
    },
    {
      "cell_type": "code",
      "execution_count": null,
      "metadata": {
        "id": "STLM1O89Pg73"
      },
      "outputs": [],
      "source": [
        "# Connect\n",
        "\n",
        "import redis\n",
        "import time\n",
        "\n",
        "host = 'redis-15949.c251.east-us-mz.azure.redns.redis-cloud.com'\n",
        "port = 15949\n",
        "username = 'CS452'\n",
        "\n",
        "r = redis.Redis(host=host, port=port, password=password, db=0, username=username)"
      ]
    },
    {
      "cell_type": "code",
      "execution_count": null,
      "metadata": {
        "id": "umIDzW25Pg73"
      },
      "outputs": [],
      "source": [
        "# set\n",
        "\n",
        "r.set(fullName, 'hello world') # True"
      ]
    },
    {
      "cell_type": "code",
      "execution_count": null,
      "metadata": {
        "id": "KUfh6AGpPg73"
      },
      "outputs": [],
      "source": [
        "# get\n",
        "result = r.get(fullName)\n",
        "\n",
        "print(result.decode())"
      ]
    },
    {
      "cell_type": "code",
      "execution_count": null,
      "metadata": {
        "id": "Uv-GA7mkPg73"
      },
      "outputs": [],
      "source": [
        "# set with expiry!\n",
        "\n",
        "myKey = 'expiringKey_' + fullName\n",
        "r.set(myKey, \"I only get to be here for a short time\", ex=3)\n",
        "\n",
        "start = time.time()\n",
        "while result := r.get(myKey):\n",
        "    print(result, time.time() - start, myKey)\n",
        "\n",
        "print(\"result gone!\")"
      ]
    },
    {
      "cell_type": "code",
      "execution_count": null,
      "metadata": {
        "id": "QXQ5KaOYPg73"
      },
      "outputs": [],
      "source": [
        "# delete\n",
        "\n",
        "r.delete(fullName)\n",
        "ans = r.get(fullName)\n",
        "\n",
        "if ans == None:\n",
        "    print(f'key \"{fullName}\" is not there anymore.')\n",
        "else:\n",
        "    print(f'key \"{fullName}\" is {ans.decode()}')"
      ]
    },
    {
      "cell_type": "code",
      "execution_count": null,
      "metadata": {
        "id": "TlCKXVp4Pg73"
      },
      "outputs": [],
      "source": [
        "# sets! and sismember\n",
        "\n",
        "setKey = \"iwashere\"\n",
        "print(\"Did you sign the guest book?\")\n",
        "print(\"yes\" if r.sismember(setKey, fullName) else \"no\")"
      ]
    },
    {
      "cell_type": "code",
      "execution_count": null,
      "metadata": {
        "id": "iAAZOW2ePg73"
      },
      "outputs": [],
      "source": [
        "# sadd\n",
        "\n",
        "r.sadd(setKey, fullName)"
      ]
    },
    {
      "cell_type": "code",
      "execution_count": null,
      "metadata": {
        "id": "B6E853i5Pg73"
      },
      "outputs": [],
      "source": [
        "# sismember\n",
        "\n",
        "print(\"Did you sign the guest book?\")\n",
        "print(\"yes\" if r.sismember(setKey, fullName) else \"no\")"
      ]
    },
    {
      "cell_type": "code",
      "execution_count": null,
      "metadata": {
        "id": "W-AB9VVcPg73"
      },
      "outputs": [],
      "source": [
        "# scard and smembers\n",
        "\n",
        "print(f\"We have {r.scard(setKey)} {'entry' if r.scard(setKey) == 1 else 'entries'}!\")\n",
        "print(r.smembers(\"iwashere\"))"
      ]
    },
    {
      "cell_type": "code",
      "execution_count": null,
      "metadata": {
        "id": "lEPAT9mYPg73"
      },
      "outputs": [],
      "source": [
        "# incr\n",
        "\n",
        "print(\"ring the bell!\")\n",
        "result = r.incr(\"bell\")\n",
        "\n",
        "print(f\"This was the ring number {result}!\")\n",
        "\n",
        "# When would this be useful? Inventory?"
      ]
    },
    {
      "cell_type": "code",
      "execution_count": null,
      "metadata": {
        "id": "a_a4vA2VPg73"
      },
      "outputs": [],
      "source": [
        "# Unsafe Transfers..\n",
        "\n",
        "for _ in range(4):\n",
        "    print(\"--- LOOP ---\")\n",
        "\n",
        "    # Starting amounts\n",
        "    print(f'Staring: fred$ = {r.get(\"fredsMoney\")}, george$ = {r.get(\"georgesMoney\")}')\n",
        "\n",
        "\n",
        "    # Unsafe transfer $100\n",
        "    fredsMoney = r.get(\"fredsMoney\")\n",
        "    fredsMoney = r.set(\"fredsMoney\", int(fredsMoney.decode()) - 100)\n",
        "\n",
        "    georgesMoney = r.get(\"georgesMoney\")\n",
        "    georgesMoney = r.set(\"georgesMoney\", int(georgesMoney.decode()) + 100)\n",
        "\n",
        "    print(f'Transfered: fred$ = {r.get(\"fredsMoney\")}, george$ = {r.get(\"georgesMoney\")}')\n",
        "\n",
        "    # Unsafe transfer the money back!\n",
        "    fredsMoney = r.get(\"fredsMoney\")\n",
        "    fredsMoney = r.set(\"fredsMoney\", int(fredsMoney.decode()) + 100)\n",
        "\n",
        "    georgesMoney = r.get(\"georgesMoney\")\n",
        "    georgesMoney = r.set(\"georgesMoney\", int(georgesMoney.decode()) - 100)\n",
        "\n",
        "    # Ending amounts\n",
        "    print(f'Transfered back: fred$ = {r.get(\"fredsMoney\")}, george$ = {r.get(\"georgesMoney\")}')"
      ]
    },
    {
      "cell_type": "code",
      "execution_count": null,
      "metadata": {
        "id": "PSMwFE3BPg74"
      },
      "outputs": [],
      "source": [
        "# Fix Fred and George's accounts\n",
        "r.set(\"fredsMoney\", 10000)\n",
        "r.set(\"georgesMoney\", 10000)"
      ]
    },
    {
      "cell_type": "code",
      "execution_count": null,
      "metadata": {
        "id": "berbRMUOPg74"
      },
      "outputs": [],
      "source": [
        "# Transfer with locking!  set(ex and nx = True)\n",
        "\n",
        "# Safe Transfers..\n",
        "safeTransferLockName = \"cs452PatienceLock\"\n",
        "def getLock():\n",
        "    print(\"Waiting for lock...\", end=\"\")\n",
        "    while True:\n",
        "        if r.set(safeTransferLockName, \"MINE!\", ex=2, nx=True):\n",
        "            print()\n",
        "            print(\"SET LOCK\")\n",
        "            return\n",
        "        print(\".\", end=\"\")\n",
        "        time.sleep(.01)\n",
        "\n",
        "def releaseLock():\n",
        "    print(\"RELEASED LOCK\")\n",
        "    r.delete(safeTransferLockName)\n",
        "\n",
        "\n",
        "for _ in range(4):\n",
        "    print(\"--- LOOP ---\")\n",
        "    getLock()  # <--------- GET THE LOCK ----------------<<\n",
        "\n",
        "    # Starting amounts\n",
        "    print(f'Staring: fred$ = {r.get(\"fredsMoney\")}, george$ = {r.get(\"georgesMoney\")}')\n",
        "\n",
        "\n",
        "    # Safe transfer $100\n",
        "    fredsMoney = r.get(\"fredsMoney\")\n",
        "    fredsMoney = r.set(\"fredsMoney\", int(fredsMoney.decode()) - 100)\n",
        "\n",
        "    georgesMoney = r.get(\"georgesMoney\")\n",
        "    georgesMoney = r.set(\"georgesMoney\", int(georgesMoney.decode()) + 100)\n",
        "\n",
        "    print(f'Transfered: fred$ = {r.get(\"fredsMoney\")}, george$ = {r.get(\"georgesMoney\")}')\n",
        "\n",
        "    # Safe transfer the money back!\n",
        "    fredsMoney = r.get(\"fredsMoney\")\n",
        "    fredsMoney = r.set(\"fredsMoney\", int(fredsMoney.decode()) + 100)\n",
        "\n",
        "    georgesMoney = r.get(\"georgesMoney\")\n",
        "    georgesMoney = r.set(\"georgesMoney\", int(georgesMoney.decode()) - 100)\n",
        "\n",
        "    # Ending amounts\n",
        "    print(f'Transfered back: fred$ = {r.get(\"fredsMoney\")}, george$ = {r.get(\"georgesMoney\")}')\n",
        "\n",
        "    releaseLock() # <------------ RELEASE THE LOCK -------------------<<"
      ]
    },
    {
      "cell_type": "code",
      "execution_count": null,
      "metadata": {
        "id": "wvqmsaPXPg74"
      },
      "outputs": [],
      "source": [
        "# Barriers and work queues\n",
        "barrierKey = \"everyOneIsWaitingForThis\"\n"
      ]
    },
    {
      "cell_type": "code",
      "execution_count": null,
      "metadata": {
        "id": "ahTsstcoPg74"
      },
      "outputs": [],
      "source": [
        "# Restore the work queue\n",
        "r.rpush(\"serviceQueueKey\", f\"Wash dishes for {fullName}\")\n",
        "r.rpush(\"serviceQueueKey\", f\"Cook dinner for {fullName}\")\n",
        "r.rpush(\"serviceQueueKey\", *[f\"Service Opportunity for ({fullName})\" for _ in range(3)])"
      ]
    },
    {
      "cell_type": "code",
      "execution_count": null,
      "metadata": {
        "id": "JMgFsn4yPg74"
      },
      "outputs": [],
      "source": [
        "# Barrier\n",
        "timeout = time.time() + 120 # two minutes\n",
        "def waitOnBarrier():\n",
        "    print(\"Wait for barrier...\")\n",
        "    while not r.get(barrierKey):\n",
        "        print(\".\", end=\"\")\n",
        "        time.sleep(.01)\n",
        "        if time.time() > timeout:\n",
        "            raise TimeoutError(\"Waiting too long for barrier! Try again?\")\n",
        "\n",
        "    print()\n",
        "    print(\"Go!\")\n",
        "\n",
        "waitOnBarrier()\n",
        "\n",
        "# Pull work off of work queue!\n",
        "for _ in range(10):\n",
        "    result = r.lpop(\"serviceQueueKey\")\n",
        "    print(result)"
      ]
    },
    {
      "cell_type": "code",
      "execution_count": null,
      "metadata": {
        "id": "cle4Vp2CPg74"
      },
      "outputs": [],
      "source": [
        "# Allow Barrier\n",
        "r.set(barrierKey, \"Let them go!\", ex=5)"
      ]
    },
    {
      "cell_type": "code",
      "execution_count": null,
      "metadata": {
        "id": "6N09eYb-Pg74"
      },
      "outputs": [],
      "source": [
        "# Block Barrier\n",
        "r.delete(barrierKey) # Should be an expiring key already, but just in case someone put something else in :)"
      ]
    }
  ],
  "metadata": {
    "kernelspec": {
      "display_name": "Python 3",
      "language": "python",
      "name": "python3"
    },
    "language_info": {
      "codemirror_mode": {
        "name": "ipython",
        "version": 3
      },
      "file_extension": ".py",
      "mimetype": "text/x-python",
      "name": "python",
      "nbconvert_exporter": "python",
      "pygments_lexer": "ipython3",
      "version": "3.11.3"
    },
    "colab": {
      "provenance": [],
      "include_colab_link": true
    }
  },
  "nbformat": 4,
  "nbformat_minor": 0
}