{
  "nbformat": 4,
  "nbformat_minor": 0,
  "metadata": {
    "colab": {
      "provenance": [],
      "include_colab_link": true
    },
    "kernelspec": {
      "name": "python3",
      "display_name": "Python 3"
    },
    "language_info": {
      "name": "python"
    }
  },
  "cells": [
    {
      "cell_type": "markdown",
      "metadata": {
        "id": "view-in-github",
        "colab_type": "text"
      },
      "source": [
        "<a href=\"https://colab.research.google.com/github/michaeltreynolds/Fall22CS393/blob/main/embed/ConferenceScraperAndEmbeddings.ipynb\" target=\"_parent\"><img src=\"https://colab.research.google.com/assets/colab-badge.svg\" alt=\"Open In Colab\"/></a>"
      ]
    },
    {
      "cell_type": "markdown",
      "source": [
        "# You don't need to read all of this if you don't want to. Just \"run all\" if you want\" and wait for it to download."
      ],
      "metadata": {
        "id": "PoZRQbASYwYR"
      }
    },
    {
      "cell_type": "markdown",
      "source": [
        "### Install Required Libraries\n",
        "\n",
        "This cell installs the necessary Python libraries for web scraping, working with HTML content, and data manipulation.\n",
        "\n",
        "- `requests`: Used to fetch HTML content from web pages.\n",
        "- `beautifulsoup4`: Parses and extracts content from the HTML.\n",
        "- `PyPDF2`: If you need to work with PDF files.\n"
      ],
      "metadata": {
        "id": "225EVrFfYaRd"
      }
    },
    {
      "cell_type": "code",
      "execution_count": 1,
      "metadata": {
        "id": "EHwZi0Axx2ZD",
        "outputId": "c5633e74-1ba0-4d05-a5bd-bee4a4841321",
        "colab": {
          "base_uri": "https://localhost:8080/"
        }
      },
      "outputs": [
        {
          "output_type": "stream",
          "name": "stdout",
          "text": [
            "Requirement already satisfied: requests in /usr/local/lib/python3.11/dist-packages (2.32.3)\n",
            "Requirement already satisfied: beautifulsoup4 in /usr/local/lib/python3.11/dist-packages (4.12.3)\n",
            "Collecting PyPDF2\n",
            "  Downloading pypdf2-3.0.1-py3-none-any.whl.metadata (6.8 kB)\n",
            "Requirement already satisfied: charset-normalizer<4,>=2 in /usr/local/lib/python3.11/dist-packages (from requests) (3.4.1)\n",
            "Requirement already satisfied: idna<4,>=2.5 in /usr/local/lib/python3.11/dist-packages (from requests) (3.10)\n",
            "Requirement already satisfied: urllib3<3,>=1.21.1 in /usr/local/lib/python3.11/dist-packages (from requests) (2.3.0)\n",
            "Requirement already satisfied: certifi>=2017.4.17 in /usr/local/lib/python3.11/dist-packages (from requests) (2024.12.14)\n",
            "Requirement already satisfied: soupsieve>1.2 in /usr/local/lib/python3.11/dist-packages (from beautifulsoup4) (2.6)\n",
            "Downloading pypdf2-3.0.1-py3-none-any.whl (232 kB)\n",
            "\u001b[2K   \u001b[90m━━━━━━━━━━━━━━━━━━━━━━━━━━━━━━━━━━━━━━━━\u001b[0m \u001b[32m232.6/232.6 kB\u001b[0m \u001b[31m3.8 MB/s\u001b[0m eta \u001b[36m0:00:00\u001b[0m\n",
            "\u001b[?25hInstalling collected packages: PyPDF2\n",
            "Successfully installed PyPDF2-3.0.1\n"
          ]
        }
      ],
      "source": [
        "!pip install requests beautifulsoup4 PyPDF2\n",
        "\n"
      ]
    },
    {
      "cell_type": "markdown",
      "source": [
        "### Web Scraping Conference Talks\n",
        "\n",
        "This block contains helper functions for scraping LDS General Conference talks from the Church's website.\n",
        "\n",
        "- `get_soup()`: Sends a request and parses the HTML from a given URL.\n",
        "- `is_decade_page()`: Identifies if the URL is a decade selection page.\n",
        "- `scrape_conference_pages()`: Fetches URLs for each conference (April/October) from the main page.\n",
        "- `scrape_talk_urls()`: Retrieves URLs for individual talks from a specific conference.\n",
        "- `scrape_talk_data()`: Scrapes the detailed data for each talk, such as title, speaker, calling, year, and season.\n"
      ],
      "metadata": {
        "id": "3Z3FcXjAYgBU"
      }
    },
    {
      "cell_type": "code",
      "source": [
        "import requests\n",
        "from bs4 import BeautifulSoup\n",
        "import pandas as pd\n",
        "import re\n",
        "import unicodedata\n",
        "import time\n",
        "from tqdm import tqdm\n",
        "from concurrent.futures import ThreadPoolExecutor\n",
        "\n",
        "def get_soup(url):\n",
        "    \"\"\"Create a tree structure (BeautifulSoup) out of a GET request's HTML.\"\"\"\n",
        "    try:\n",
        "        r = requests.get(url, allow_redirects=True)\n",
        "        r.raise_for_status()\n",
        "        print(f\"Successfully fetched {r.url}\")\n",
        "        return BeautifulSoup(r.content, \"html5lib\")\n",
        "    except requests.RequestException as e:\n",
        "        print(f\"Error fetching {url}: {e}\")\n",
        "        return None\n",
        "\n",
        "def is_decade_page(url):\n",
        "    \"\"\"Check if a page is a decade selection page.\"\"\"\n",
        "    return bool(re.search(r\"/study/general-conference/\\d{4}\\d{4}\", url))\n",
        "\n",
        "def scrape_conference_pages(main_page_url):\n",
        "    \"\"\"Retrieve a list of URLs for each conference (year/month) from the main page.\"\"\"\n",
        "    soup = get_soup(main_page_url)\n",
        "    if soup is None:\n",
        "        print(f\"Failed to fetch content from {main_page_url}\")\n",
        "        return []\n",
        "\n",
        "    all_conference_links = []\n",
        "\n",
        "    # Find all the links to individual conferences or decades\n",
        "    links = [\n",
        "        \"https://www.churchofjesuschrist.org\" + a[\"href\"]\n",
        "        for a in soup.find_all(\"a\", href=True)\n",
        "        if re.search(r\"/study/general-conference/(\\d{4}/(04|10)|\\d{4}\\d{4})\", a[\"href\"])\n",
        "    ]\n",
        "\n",
        "    for link in links:\n",
        "        if is_decade_page(link):\n",
        "            # Handle decade page\n",
        "            decade_soup = get_soup(link)\n",
        "            if decade_soup:\n",
        "                year_links = [\n",
        "                    \"https://www.churchofjesuschrist.org\" + a[\"href\"]\n",
        "                    for a in decade_soup.find_all(\"a\", href=True)\n",
        "                    if re.search(r\"/study/general-conference/\\d{4}/(04|10)\", a[\"href\"])\n",
        "                ]\n",
        "                all_conference_links.extend(year_links)\n",
        "        else:\n",
        "            all_conference_links.append(link)\n",
        "            #print(f\"direct: {link}\")\n",
        "\n",
        "    print(f\"Total conference links found: {len(all_conference_links)}\")\n",
        "    print(\"Sample conference links:\", all_conference_links[:5])\n",
        "    print(all_conference_links)\n",
        "    #https://www.churchofjesuschrist.org/study/general-conference/2024/10?lang=eng\n",
        "    filtered_links = list(filter(lambda link: int(link.split(\"/\")[5]) >= 2018, all_conference_links))\n",
        "    #return all_conference_links\n",
        "    return filtered_links\n",
        "\n",
        "def scrape_talk_urls(conference_url):\n",
        "    \"\"\"Retrieve a list of URLs for each talk in a specific conference.\"\"\"\n",
        "    soup = get_soup(conference_url)\n",
        "    if soup is None:\n",
        "        return []\n",
        "\n",
        "    talk_links = [\n",
        "        \"https://www.churchofjesuschrist.org\" + a[\"href\"]\n",
        "        for a in soup.find_all(\"a\", href=True)\n",
        "        if re.search(r\"/study/general-conference/\\d{4}/(04|10)/.*\", a[\"href\"])\n",
        "    ]\n",
        "\n",
        "    # Remove duplicate links and session links\n",
        "    talk_links = list(set(talk_links))\n",
        "    talk_links = [link for link in talk_links if not link.endswith(\"session?lang=eng\")]\n",
        "\n",
        "    print(f\"Found {len(talk_links)} talk links in {conference_url}\")\n",
        "    if talk_links:\n",
        "        print(\"Sample talk links:\", talk_links[:3])\n",
        "    return talk_links\n",
        "\n",
        "def scrape_talk_data(url):\n",
        "    \"\"\"Scrapes a single talk for data such as: title, conference, calling, speaker, content.\"\"\"\n",
        "    try:\n",
        "        soup = get_soup(url)\n",
        "        if soup is None:\n",
        "            return {}\n",
        "\n",
        "        title_tag = soup.find(\"h1\")\n",
        "        title = title_tag.text.strip() if title_tag else \"No Title Found\"\n",
        "\n",
        "        conference_tag = soup.find(\"p\", {\"class\": \"subtitle\"})\n",
        "        conference = conference_tag.text.strip() if conference_tag else \"No Conference Found\"\n",
        "\n",
        "        author_tag = soup.find(\"p\", {\"class\": \"author-name\"})\n",
        "        speaker = author_tag.text.strip() if author_tag else \"No Speaker Found\"\n",
        "\n",
        "        calling_tag = soup.find(\"p\", {\"class\": \"author-role\"})\n",
        "        calling = calling_tag.text.strip() if calling_tag else \"No Calling Found\"\n",
        "\n",
        "        content_array = soup.find(\"div\", {\"class\": \"body-block\"})\n",
        "        content = \"\\n\\n\".join(paragraph.text.strip() for paragraph in content_array.find_all(\"p\")) if content_array else \"No Content Found\"\n",
        "\n",
        "        footnotes = \"\\n\".join(\n",
        "            f\"{idx}. {note.text.strip()}\" for idx, note in enumerate(soup.find_all(\"li\", {\"class\": \"study-note\"}), start=1)\n",
        "        ) if soup.find_all(\"li\", {\"class\": \"study-note\"}) else \"No Footnotes Found\"\n",
        "\n",
        "        year = re.search(r'/(\\d{4})/', url).group(1)\n",
        "        season = \"April\" if \"/04/\" in url else \"October\"\n",
        "\n",
        "        return {\n",
        "            \"title\": title,\n",
        "            \"speaker\": speaker,\n",
        "            \"calling\": calling,\n",
        "            \"year\": year,\n",
        "            \"season\": season,\n",
        "            \"url\": url,\n",
        "            \"talk\": content,\n",
        "            \"footnotes\": footnotes,\n",
        "        }\n",
        "    except Exception as e:\n",
        "        print(f\"Failed to scrape {url}: {e}\")\n",
        "        return {}\n",
        "\n",
        "def scrape_talk_data_parallel(urls):\n",
        "    \"\"\"Scrapes all talks in parallel using ThreadPoolExecutor.\"\"\"\n",
        "    with ThreadPoolExecutor(max_workers=10) as executor:  # Adjust `max_workers` as needed\n",
        "        results = list(tqdm(executor.map(scrape_talk_data, urls), total=len(urls), desc=\"Scraping talks in parallel\"))\n",
        "    return [result for result in results if result]  # Filter out empty results\n",
        "\n",
        "def main_scrape_process():\n",
        "    main_url = \"https://www.churchofjesuschrist.org/study/general-conference?lang=eng\"\n",
        "    conference_urls = scrape_conference_pages(main_url)\n",
        "    print(\"Hello\")\n",
        "    print(conference_urls)\n",
        "    all_talk_urls = []\n",
        "    for conference_url in tqdm(conference_urls, desc=\"Scraping conferences\"):\n",
        "        all_talk_urls.extend(scrape_talk_urls(conference_url))\n",
        "\n",
        "    print(f\"Total talks found: {len(all_talk_urls)}\")\n",
        "\n",
        "    # Scrape talks in parallel\n",
        "    conference_talks = scrape_talk_data_parallel(all_talk_urls)\n",
        "\n",
        "    # Create DataFrame from the scraped data\n",
        "    conference_df = pd.DataFrame(conference_talks)\n",
        "\n",
        "    # Normalize Unicode and clean data\n",
        "    for col in conference_df.columns:\n",
        "        conference_df[col] = conference_df[col].apply(lambda x: unicodedata.normalize(\"NFD\", x) if isinstance(x, str) else x)\n",
        "        conference_df[col] = conference_df[col].apply(lambda x: x.replace(\"\\t\", \"\") if isinstance(x, str) else x)\n",
        "\n",
        "    # Save to CSV and JSON\n",
        "    conference_df.to_csv(\"conference_talks.csv\", index=False)\n",
        "    print(\"Scraping complete. Data saved to 'conference_talks.csv'.\")\n",
        "\n",
        "    conference_df.to_json(\"conference_talks.json\", orient=\"records\", indent=4)\n",
        "    print(\"Data also saved to 'conference_talks.json'.\")\n",
        "\n",
        "# Run the scraper\n",
        "start = time.time()\n",
        "main_scrape_process()\n",
        "end = time.time()\n",
        "print(f\"Total time taken: {end - start} seconds\")\n",
        "# main_url = \"https://www.churchofjesuschrist.org/study/general-conference?lang=eng\"\n",
        "# conference_urls = scrape_conference_pages(main_url)"
      ],
      "metadata": {
        "colab": {
          "base_uri": "https://localhost:8080/"
        },
        "id": "WnesEHkCzBub",
        "outputId": "58ae27d8-a4af-4818-b985-ffec0e1e1849",
        "collapsed": true
      },
      "execution_count": 2,
      "outputs": [
        {
          "output_type": "stream",
          "name": "stdout",
          "text": [
            "Successfully fetched https://www.churchofjesuschrist.org/study/general-conference?lang=eng\n",
            "Successfully fetched https://www.churchofjesuschrist.org/study/general-conference/20102019?lang=eng\n",
            "Successfully fetched https://www.churchofjesuschrist.org/study/general-conference/20002009?lang=eng\n",
            "Successfully fetched https://www.churchofjesuschrist.org/study/general-conference/19901999?lang=eng\n",
            "Successfully fetched https://www.churchofjesuschrist.org/study/general-conference/19801989?lang=eng\n",
            "Successfully fetched https://www.churchofjesuschrist.org/study/general-conference/19711979?lang=eng\n",
            "Total conference links found: 108\n",
            "Sample conference links: ['https://www.churchofjesuschrist.org/study/general-conference/2024/10?lang=eng', 'https://www.churchofjesuschrist.org/study/general-conference/2024/04?lang=eng', 'https://www.churchofjesuschrist.org/study/general-conference/2023/10?lang=eng', 'https://www.churchofjesuschrist.org/study/general-conference/2023/04?lang=eng', 'https://www.churchofjesuschrist.org/study/general-conference/2022/10?lang=eng']\n",
            "['https://www.churchofjesuschrist.org/study/general-conference/2024/10?lang=eng', 'https://www.churchofjesuschrist.org/study/general-conference/2024/04?lang=eng', 'https://www.churchofjesuschrist.org/study/general-conference/2023/10?lang=eng', 'https://www.churchofjesuschrist.org/study/general-conference/2023/04?lang=eng', 'https://www.churchofjesuschrist.org/study/general-conference/2022/10?lang=eng', 'https://www.churchofjesuschrist.org/study/general-conference/2022/04?lang=eng', 'https://www.churchofjesuschrist.org/study/general-conference/2021/10?lang=eng', 'https://www.churchofjesuschrist.org/study/general-conference/2021/04?lang=eng', 'https://www.churchofjesuschrist.org/study/general-conference/2020/10?lang=eng', 'https://www.churchofjesuschrist.org/study/general-conference/2020/04?lang=eng', 'https://www.churchofjesuschrist.org/study/general-conference/2019/10?lang=eng', 'https://www.churchofjesuschrist.org/study/general-conference/2019/04?lang=eng', 'https://www.churchofjesuschrist.org/study/general-conference/2018/10?lang=eng', 'https://www.churchofjesuschrist.org/study/general-conference/2018/04?lang=eng', 'https://www.churchofjesuschrist.org/study/general-conference/2017/10?lang=eng', 'https://www.churchofjesuschrist.org/study/general-conference/2017/04?lang=eng', 'https://www.churchofjesuschrist.org/study/general-conference/2016/10?lang=eng', 'https://www.churchofjesuschrist.org/study/general-conference/2016/04?lang=eng', 'https://www.churchofjesuschrist.org/study/general-conference/2015/10?lang=eng', 'https://www.churchofjesuschrist.org/study/general-conference/2015/04?lang=eng', 'https://www.churchofjesuschrist.org/study/general-conference/2014/10?lang=eng', 'https://www.churchofjesuschrist.org/study/general-conference/2014/04?lang=eng', 'https://www.churchofjesuschrist.org/study/general-conference/2013/10?lang=eng', 'https://www.churchofjesuschrist.org/study/general-conference/2013/04?lang=eng', 'https://www.churchofjesuschrist.org/study/general-conference/2012/10?lang=eng', 'https://www.churchofjesuschrist.org/study/general-conference/2012/04?lang=eng', 'https://www.churchofjesuschrist.org/study/general-conference/2011/10?lang=eng', 'https://www.churchofjesuschrist.org/study/general-conference/2011/04?lang=eng', 'https://www.churchofjesuschrist.org/study/general-conference/2010/10?lang=eng', 'https://www.churchofjesuschrist.org/study/general-conference/2010/04?lang=eng', 'https://www.churchofjesuschrist.org/study/general-conference/2009/10?lang=eng', 'https://www.churchofjesuschrist.org/study/general-conference/2009/04?lang=eng', 'https://www.churchofjesuschrist.org/study/general-conference/2008/10?lang=eng', 'https://www.churchofjesuschrist.org/study/general-conference/2008/04?lang=eng', 'https://www.churchofjesuschrist.org/study/general-conference/2007/10?lang=eng', 'https://www.churchofjesuschrist.org/study/general-conference/2007/04?lang=eng', 'https://www.churchofjesuschrist.org/study/general-conference/2006/10?lang=eng', 'https://www.churchofjesuschrist.org/study/general-conference/2006/04?lang=eng', 'https://www.churchofjesuschrist.org/study/general-conference/2005/10?lang=eng', 'https://www.churchofjesuschrist.org/study/general-conference/2005/04?lang=eng', 'https://www.churchofjesuschrist.org/study/general-conference/2004/10?lang=eng', 'https://www.churchofjesuschrist.org/study/general-conference/2004/04?lang=eng', 'https://www.churchofjesuschrist.org/study/general-conference/2003/10?lang=eng', 'https://www.churchofjesuschrist.org/study/general-conference/2003/04?lang=eng', 'https://www.churchofjesuschrist.org/study/general-conference/2002/10?lang=eng', 'https://www.churchofjesuschrist.org/study/general-conference/2002/04?lang=eng', 'https://www.churchofjesuschrist.org/study/general-conference/2001/10?lang=eng', 'https://www.churchofjesuschrist.org/study/general-conference/2001/04?lang=eng', 'https://www.churchofjesuschrist.org/study/general-conference/2000/10?lang=eng', 'https://www.churchofjesuschrist.org/study/general-conference/2000/04?lang=eng', 'https://www.churchofjesuschrist.org/study/general-conference/1999/10?lang=eng', 'https://www.churchofjesuschrist.org/study/general-conference/1999/04?lang=eng', 'https://www.churchofjesuschrist.org/study/general-conference/1998/10?lang=eng', 'https://www.churchofjesuschrist.org/study/general-conference/1998/04?lang=eng', 'https://www.churchofjesuschrist.org/study/general-conference/1997/10?lang=eng', 'https://www.churchofjesuschrist.org/study/general-conference/1997/04?lang=eng', 'https://www.churchofjesuschrist.org/study/general-conference/1996/10?lang=eng', 'https://www.churchofjesuschrist.org/study/general-conference/1996/04?lang=eng', 'https://www.churchofjesuschrist.org/study/general-conference/1995/10?lang=eng', 'https://www.churchofjesuschrist.org/study/general-conference/1995/04?lang=eng', 'https://www.churchofjesuschrist.org/study/general-conference/1994/10?lang=eng', 'https://www.churchofjesuschrist.org/study/general-conference/1994/04?lang=eng', 'https://www.churchofjesuschrist.org/study/general-conference/1993/10?lang=eng', 'https://www.churchofjesuschrist.org/study/general-conference/1993/04?lang=eng', 'https://www.churchofjesuschrist.org/study/general-conference/1992/10?lang=eng', 'https://www.churchofjesuschrist.org/study/general-conference/1992/04?lang=eng', 'https://www.churchofjesuschrist.org/study/general-conference/1991/10?lang=eng', 'https://www.churchofjesuschrist.org/study/general-conference/1991/04?lang=eng', 'https://www.churchofjesuschrist.org/study/general-conference/1990/10?lang=eng', 'https://www.churchofjesuschrist.org/study/general-conference/1990/04?lang=eng', 'https://www.churchofjesuschrist.org/study/general-conference/1989/10?lang=eng', 'https://www.churchofjesuschrist.org/study/general-conference/1989/04?lang=eng', 'https://www.churchofjesuschrist.org/study/general-conference/1988/10?lang=eng', 'https://www.churchofjesuschrist.org/study/general-conference/1988/04?lang=eng', 'https://www.churchofjesuschrist.org/study/general-conference/1987/10?lang=eng', 'https://www.churchofjesuschrist.org/study/general-conference/1987/04?lang=eng', 'https://www.churchofjesuschrist.org/study/general-conference/1986/10?lang=eng', 'https://www.churchofjesuschrist.org/study/general-conference/1986/04?lang=eng', 'https://www.churchofjesuschrist.org/study/general-conference/1985/10?lang=eng', 'https://www.churchofjesuschrist.org/study/general-conference/1985/04?lang=eng', 'https://www.churchofjesuschrist.org/study/general-conference/1984/10?lang=eng', 'https://www.churchofjesuschrist.org/study/general-conference/1984/04?lang=eng', 'https://www.churchofjesuschrist.org/study/general-conference/1983/10?lang=eng', 'https://www.churchofjesuschrist.org/study/general-conference/1983/04?lang=eng', 'https://www.churchofjesuschrist.org/study/general-conference/1982/10?lang=eng', 'https://www.churchofjesuschrist.org/study/general-conference/1982/04?lang=eng', 'https://www.churchofjesuschrist.org/study/general-conference/1981/10?lang=eng', 'https://www.churchofjesuschrist.org/study/general-conference/1981/04?lang=eng', 'https://www.churchofjesuschrist.org/study/general-conference/1980/10?lang=eng', 'https://www.churchofjesuschrist.org/study/general-conference/1980/04?lang=eng', 'https://www.churchofjesuschrist.org/study/general-conference/1979/10?lang=eng', 'https://www.churchofjesuschrist.org/study/general-conference/1979/04?lang=eng', 'https://www.churchofjesuschrist.org/study/general-conference/1978/10?lang=eng', 'https://www.churchofjesuschrist.org/study/general-conference/1978/04?lang=eng', 'https://www.churchofjesuschrist.org/study/general-conference/1977/10?lang=eng', 'https://www.churchofjesuschrist.org/study/general-conference/1977/04?lang=eng', 'https://www.churchofjesuschrist.org/study/general-conference/1976/10?lang=eng', 'https://www.churchofjesuschrist.org/study/general-conference/1976/04?lang=eng', 'https://www.churchofjesuschrist.org/study/general-conference/1975/10?lang=eng', 'https://www.churchofjesuschrist.org/study/general-conference/1975/04?lang=eng', 'https://www.churchofjesuschrist.org/study/general-conference/1974/10?lang=eng', 'https://www.churchofjesuschrist.org/study/general-conference/1974/04?lang=eng', 'https://www.churchofjesuschrist.org/study/general-conference/1973/10?lang=eng', 'https://www.churchofjesuschrist.org/study/general-conference/1973/04?lang=eng', 'https://www.churchofjesuschrist.org/study/general-conference/1972/10?lang=eng', 'https://www.churchofjesuschrist.org/study/general-conference/1972/04?lang=eng', 'https://www.churchofjesuschrist.org/study/general-conference/1971/10?lang=eng', 'https://www.churchofjesuschrist.org/study/general-conference/1971/04?lang=eng']\n",
            "Hello\n",
            "['https://www.churchofjesuschrist.org/study/general-conference/2024/10?lang=eng', 'https://www.churchofjesuschrist.org/study/general-conference/2024/04?lang=eng', 'https://www.churchofjesuschrist.org/study/general-conference/2023/10?lang=eng', 'https://www.churchofjesuschrist.org/study/general-conference/2023/04?lang=eng', 'https://www.churchofjesuschrist.org/study/general-conference/2022/10?lang=eng', 'https://www.churchofjesuschrist.org/study/general-conference/2022/04?lang=eng', 'https://www.churchofjesuschrist.org/study/general-conference/2021/10?lang=eng', 'https://www.churchofjesuschrist.org/study/general-conference/2021/04?lang=eng', 'https://www.churchofjesuschrist.org/study/general-conference/2020/10?lang=eng', 'https://www.churchofjesuschrist.org/study/general-conference/2020/04?lang=eng', 'https://www.churchofjesuschrist.org/study/general-conference/2019/10?lang=eng', 'https://www.churchofjesuschrist.org/study/general-conference/2019/04?lang=eng', 'https://www.churchofjesuschrist.org/study/general-conference/2018/10?lang=eng', 'https://www.churchofjesuschrist.org/study/general-conference/2018/04?lang=eng']\n"
          ]
        },
        {
          "output_type": "stream",
          "name": "stderr",
          "text": [
            "\rScraping conferences:   0%|          | 0/14 [00:00<?, ?it/s]"
          ]
        },
        {
          "output_type": "stream",
          "name": "stdout",
          "text": [
            "Successfully fetched https://www.churchofjesuschrist.org/study/general-conference/2024/10?lang=eng\n"
          ]
        },
        {
          "output_type": "stream",
          "name": "stderr",
          "text": [
            "\rScraping conferences:   7%|▋         | 1/14 [00:00<00:10,  1.29it/s]"
          ]
        },
        {
          "output_type": "stream",
          "name": "stdout",
          "text": [
            "Found 36 talk links in https://www.churchofjesuschrist.org/study/general-conference/2024/10?lang=eng\n",
            "Sample talk links: ['https://www.churchofjesuschrist.org/study/general-conference/2024/10/54cook?lang=eng', 'https://www.churchofjesuschrist.org/study/general-conference/2024/10/46wilcox?lang=eng', 'https://www.churchofjesuschrist.org/study/general-conference/2024/10/23villar?lang=eng']\n",
            "Successfully fetched https://www.churchofjesuschrist.org/study/general-conference/2024/04?lang=eng\n"
          ]
        },
        {
          "output_type": "stream",
          "name": "stderr",
          "text": [
            "\rScraping conferences:  14%|█▍        | 2/14 [00:01<00:08,  1.37it/s]"
          ]
        },
        {
          "output_type": "stream",
          "name": "stdout",
          "text": [
            "Found 35 talk links in https://www.churchofjesuschrist.org/study/general-conference/2024/04?lang=eng\n",
            "Sample talk links: ['https://www.churchofjesuschrist.org/study/general-conference/2024/04/47oaks?lang=eng', 'https://www.churchofjesuschrist.org/study/general-conference/2024/04/56pace?lang=eng', 'https://www.churchofjesuschrist.org/study/general-conference/2024/04/44pieper?lang=eng']\n",
            "Successfully fetched https://www.churchofjesuschrist.org/study/general-conference/2023/10?lang=eng\n"
          ]
        },
        {
          "output_type": "stream",
          "name": "stderr",
          "text": [
            "\rScraping conferences:  21%|██▏       | 3/14 [00:02<00:08,  1.37it/s]"
          ]
        },
        {
          "output_type": "stream",
          "name": "stdout",
          "text": [
            "Found 34 talk links in https://www.churchofjesuschrist.org/study/general-conference/2023/10?lang=eng\n",
            "Sample talk links: ['https://www.churchofjesuschrist.org/study/general-conference/2023/10/26choi?lang=eng', 'https://www.churchofjesuschrist.org/study/general-conference/2023/10/22andersen?lang=eng', 'https://www.churchofjesuschrist.org/study/general-conference/2023/10/12wright?lang=eng']\n",
            "Successfully fetched https://www.churchofjesuschrist.org/study/general-conference/2023/04?lang=eng\n"
          ]
        },
        {
          "output_type": "stream",
          "name": "stderr",
          "text": [
            "\rScraping conferences:  29%|██▊       | 4/14 [00:03<00:07,  1.26it/s]"
          ]
        },
        {
          "output_type": "stream",
          "name": "stdout",
          "text": [
            "Found 36 talk links in https://www.churchofjesuschrist.org/study/general-conference/2023/04?lang=eng\n",
            "Sample talk links: ['https://www.churchofjesuschrist.org/study/general-conference/2023/04/53rasband?lang=eng', 'https://www.churchofjesuschrist.org/study/general-conference/2023/04/15cook?lang=eng', 'https://www.churchofjesuschrist.org/study/general-conference/2023/04/33nattress?lang=eng']\n",
            "Successfully fetched https://www.churchofjesuschrist.org/study/general-conference/2022/10?lang=eng\n"
          ]
        },
        {
          "output_type": "stream",
          "name": "stderr",
          "text": [
            "\rScraping conferences:  36%|███▌      | 5/14 [00:04<00:07,  1.18it/s]"
          ]
        },
        {
          "output_type": "stream",
          "name": "stdout",
          "text": [
            "Found 37 talk links in https://www.churchofjesuschrist.org/study/general-conference/2022/10?lang=eng\n",
            "Sample talk links: ['https://www.churchofjesuschrist.org/study/general-conference/2022/10/23yee?lang=eng', 'https://www.churchofjesuschrist.org/study/general-conference/2022/10/51eyring?lang=eng', 'https://www.churchofjesuschrist.org/study/general-conference/2022/10/42dennis?lang=eng']\n",
            "Successfully fetched https://www.churchofjesuschrist.org/study/general-conference/2022/04?lang=eng\n"
          ]
        },
        {
          "output_type": "stream",
          "name": "stderr",
          "text": [
            "\rScraping conferences:  43%|████▎     | 6/14 [00:04<00:06,  1.18it/s]"
          ]
        },
        {
          "output_type": "stream",
          "name": "stdout",
          "text": [
            "Found 39 talk links in https://www.churchofjesuschrist.org/study/general-conference/2022/04?lang=eng\n",
            "Sample talk links: ['https://www.churchofjesuschrist.org/study/general-conference/2022/04/11nelson?lang=eng', 'https://www.churchofjesuschrist.org/study/general-conference/2022/04/47nelson?lang=eng', 'https://www.churchofjesuschrist.org/study/general-conference/2022/04/53klebingat?lang=eng']\n",
            "Successfully fetched https://www.churchofjesuschrist.org/study/general-conference/2021/10?lang=eng\n"
          ]
        },
        {
          "output_type": "stream",
          "name": "stderr",
          "text": [
            "\rScraping conferences:  50%|█████     | 7/14 [00:05<00:05,  1.31it/s]"
          ]
        },
        {
          "output_type": "stream",
          "name": "stdout",
          "text": [
            "Found 41 talk links in https://www.churchofjesuschrist.org/study/general-conference/2021/10?lang=eng\n",
            "Sample talk links: ['https://www.churchofjesuschrist.org/study/general-conference/2021/10/14soares?lang=eng', 'https://www.churchofjesuschrist.org/study/general-conference/2021/10/24porter?lang=eng', 'https://www.churchofjesuschrist.org/study/general-conference/2021/10/29stevenson?lang=eng']\n",
            "Successfully fetched https://www.churchofjesuschrist.org/study/general-conference/2021/04?lang=eng\n"
          ]
        },
        {
          "output_type": "stream",
          "name": "stderr",
          "text": [
            "\rScraping conferences:  57%|█████▋    | 8/14 [00:06<00:05,  1.13it/s]"
          ]
        },
        {
          "output_type": "stream",
          "name": "stdout",
          "text": [
            "Found 38 talk links in https://www.churchofjesuschrist.org/study/general-conference/2021/04?lang=eng\n",
            "Sample talk links: ['https://www.churchofjesuschrist.org/study/general-conference/2021/04/44dube?lang=eng', 'https://www.churchofjesuschrist.org/study/general-conference/2021/04/14newman?lang=eng', 'https://www.churchofjesuschrist.org/study/general-conference/2021/04/13jones?lang=eng']\n",
            "Successfully fetched https://www.churchofjesuschrist.org/study/general-conference/2020/10?lang=eng\n"
          ]
        },
        {
          "output_type": "stream",
          "name": "stderr",
          "text": [
            "\rScraping conferences:  64%|██████▍   | 9/14 [00:07<00:04,  1.01it/s]"
          ]
        },
        {
          "output_type": "stream",
          "name": "stdout",
          "text": [
            "Found 37 talk links in https://www.churchofjesuschrist.org/study/general-conference/2020/10?lang=eng\n",
            "Sample talk links: ['https://www.churchofjesuschrist.org/study/general-conference/2020/10/saturday-morning-session', 'https://www.churchofjesuschrist.org/study/general-conference/2020/10/28uchtdorf?lang=eng', 'https://www.churchofjesuschrist.org/study/general-conference/2020/10/26holland?lang=eng']\n",
            "Successfully fetched https://www.churchofjesuschrist.org/study/general-conference/2020/04?lang=eng\n"
          ]
        },
        {
          "output_type": "stream",
          "name": "stderr",
          "text": [
            "\rScraping conferences:  71%|███████▏  | 10/14 [00:08<00:03,  1.03it/s]"
          ]
        },
        {
          "output_type": "stream",
          "name": "stdout",
          "text": [
            "Found 36 talk links in https://www.churchofjesuschrist.org/study/general-conference/2020/04?lang=eng\n",
            "Sample talk links: ['https://www.churchofjesuschrist.org/study/general-conference/2020/04/37nelson?lang=eng', 'https://www.churchofjesuschrist.org/study/general-conference/2020/04/11nelson?lang=eng', 'https://www.churchofjesuschrist.org/study/general-conference/2020/04/16holmes?lang=eng']\n",
            "Successfully fetched https://www.churchofjesuschrist.org/study/general-conference/2019/10?lang=eng\n"
          ]
        },
        {
          "output_type": "stream",
          "name": "stderr",
          "text": [
            "\rScraping conferences:  79%|███████▊  | 11/14 [00:09<00:02,  1.03it/s]"
          ]
        },
        {
          "output_type": "stream",
          "name": "stdout",
          "text": [
            "Found 36 talk links in https://www.churchofjesuschrist.org/study/general-conference/2019/10?lang=eng\n",
            "Sample talk links: ['https://www.churchofjesuschrist.org/study/general-conference/2019/10/57nelson?lang=eng', 'https://www.churchofjesuschrist.org/study/general-conference/2019/10/15craig?lang=eng', 'https://www.churchofjesuschrist.org/study/general-conference/2019/10/36nelson?lang=eng']\n",
            "Successfully fetched https://www.churchofjesuschrist.org/study/general-conference/2019/04?lang=eng\n"
          ]
        },
        {
          "output_type": "stream",
          "name": "stderr",
          "text": [
            "\rScraping conferences:  86%|████████▌ | 12/14 [00:10<00:01,  1.10it/s]"
          ]
        },
        {
          "output_type": "stream",
          "name": "stdout",
          "text": [
            "Found 34 talk links in https://www.churchofjesuschrist.org/study/general-conference/2019/04?lang=eng\n",
            "Sample talk links: ['https://www.churchofjesuschrist.org/study/general-conference/2019/04/31stevenson?lang=eng', 'https://www.churchofjesuschrist.org/study/general-conference/2019/04/34eyring?lang=eng', 'https://www.churchofjesuschrist.org/study/general-conference/2019/04/26wada?lang=eng']\n",
            "Successfully fetched https://www.churchofjesuschrist.org/study/general-conference/2018/10?lang=eng\n"
          ]
        },
        {
          "output_type": "stream",
          "name": "stderr",
          "text": [
            "\rScraping conferences:  93%|█████████▎| 13/14 [00:11<00:00,  1.17it/s]"
          ]
        },
        {
          "output_type": "stream",
          "name": "stdout",
          "text": [
            "Found 35 talk links in https://www.churchofjesuschrist.org/study/general-conference/2018/10?lang=eng\n",
            "Sample talk links: ['https://www.churchofjesuschrist.org/study/general-conference/2018/10/lift-up-your-head-and-rejoice?lang=eng', 'https://www.churchofjesuschrist.org/study/general-conference/2018/10/choose-you-this-day?lang=eng', 'https://www.churchofjesuschrist.org/study/general-conference/2018/10/firm-and-steadfast-in-the-faith-of-christ?lang=eng']\n",
            "Successfully fetched https://www.churchofjesuschrist.org/study/general-conference/2018/04?lang=eng\n"
          ]
        },
        {
          "output_type": "stream",
          "name": "stderr",
          "text": [
            "Scraping conferences: 100%|██████████| 14/14 [00:11<00:00,  1.18it/s]\n"
          ]
        },
        {
          "output_type": "stream",
          "name": "stdout",
          "text": [
            "Found 39 talk links in https://www.churchofjesuschrist.org/study/general-conference/2018/04?lang=eng\n",
            "Sample talk links: ['https://www.churchofjesuschrist.org/study/general-conference/2018/04/ministering-with-the-power-and-authority-of-god?lang=eng', 'https://www.churchofjesuschrist.org/study/general-conference/2018/04/revelation-for-the-church-revelation-for-our-lives?lang=eng', 'https://www.churchofjesuschrist.org/study/general-conference/2018/04/young-women-in-the-work?lang=eng']\n",
            "Total talks found: 513\n"
          ]
        },
        {
          "output_type": "stream",
          "name": "stderr",
          "text": [
            "\rScraping talks in parallel:   0%|          | 0/513 [00:00<?, ?it/s]"
          ]
        },
        {
          "output_type": "stream",
          "name": "stdout",
          "text": [
            "Successfully fetched https://www.churchofjesuschrist.org/study/general-conference/2024/10/21christofferson?lang=eng\n",
            "Successfully fetched https://www.churchofjesuschrist.org/study/general-conference/2024/10/46wilcox?lang=eng\n",
            "Successfully fetched https://www.churchofjesuschrist.org/study/general-conference/2024/10/51uchtdorf?lang=eng\n",
            "Successfully fetched https://www.churchofjesuschrist.org/study/general-conference/2024/10/54cook?lang=eng\n",
            "Successfully fetched https://www.churchofjesuschrist.org/study/general-conference/2024/10/16homer?lang=engSuccessfully fetched https://www.churchofjesuschrist.org/study/general-conference/2024/10/24kearon?lang=eng\n",
            "\n",
            "Successfully fetched https://www.churchofjesuschrist.org/study/general-conference/2024/10/26goury?lang=eng\n",
            "Successfully fetched https://www.churchofjesuschrist.org/study/general-conference/2024/10/28soares?lang=eng\n",
            "Successfully fetched https://www.churchofjesuschrist.org/study/general-conference/2024/10/23villar?lang=eng\n",
            "Successfully fetched https://www.churchofjesuschrist.org/study/general-conference/2024/10/13freeman?lang=eng\n",
            "Successfully fetched https://www.churchofjesuschrist.org/study/general-conference/2024/10/31gong?lang=eng\n",
            "Successfully fetched https://www.churchofjesuschrist.org/study/general-conference/2024/10/47eyring?lang=eng\n",
            "Successfully fetched https://www.churchofjesuschrist.org/study/general-conference/2024/10/55alliaud?lang=eng\n"
          ]
        },
        {
          "output_type": "stream",
          "name": "stderr",
          "text": [
            "Scraping talks in parallel:   2%|▏         | 10/513 [00:02<01:14,  6.75it/s]"
          ]
        },
        {
          "output_type": "stream",
          "name": "stdout",
          "text": [
            "Successfully fetched https://www.churchofjesuschrist.org/study/general-conference/2024/10/15renlund?lang=eng\n",
            "Successfully fetched https://www.churchofjesuschrist.org/study/general-conference/2024/10/41holland?lang=eng\n",
            "Successfully fetched https://www.churchofjesuschrist.org/study/general-conference/2024/10/35bednar?lang=eng\n"
          ]
        },
        {
          "output_type": "stream",
          "name": "stderr",
          "text": [
            "Scraping talks in parallel:   3%|▎         | 17/513 [00:02<00:48, 10.22it/s]"
          ]
        },
        {
          "output_type": "stream",
          "name": "stdout",
          "text": [
            "Successfully fetched https://www.churchofjesuschrist.org/study/general-conference/2024/10/43hales?lang=eng\n",
            "Successfully fetched https://www.churchofjesuschrist.org/study/general-conference/2024/10/11eyring?lang=eng\n",
            "Successfully fetched https://www.churchofjesuschrist.org/study/general-conference/2024/10/45budge?lang=eng\n",
            "Successfully fetched https://www.churchofjesuschrist.org/study/general-conference/2024/10/52wada?lang=eng\n",
            "Successfully fetched https://www.churchofjesuschrist.org/study/general-conference/2024/10/56egbo?lang=eng\n",
            "Successfully fetched https://www.churchofjesuschrist.org/study/general-conference/2024/10/18oaks?lang=eng\n",
            "Successfully fetched https://www.churchofjesuschrist.org/study/general-conference/2024/10/32yee?lang=eng\n",
            "Successfully fetched https://www.churchofjesuschrist.org/study/general-conference/2024/10/33mckay?lang=eng\n",
            "Successfully fetched https://www.churchofjesuschrist.org/study/general-conference/2024/10/57nelson?lang=eng\n",
            "Successfully fetched https://www.churchofjesuschrist.org/study/general-conference/2024/10/44stevenson?lang=eng\n"
          ]
        },
        {
          "output_type": "stream",
          "name": "stderr",
          "text": [
            "Scraping talks in parallel:   4%|▍         | 22/513 [00:03<00:51,  9.58it/s]"
          ]
        },
        {
          "output_type": "stream",
          "name": "stdout",
          "text": [
            "Successfully fetched https://www.churchofjesuschrist.org/study/general-conference/2024/10/14hirst?lang=eng\n",
            "Successfully fetched https://www.churchofjesuschrist.org/study/general-conference/2024/10/17casillas?lang=eng\n"
          ]
        },
        {
          "output_type": "stream",
          "name": "stderr",
          "text": [
            "\rScraping talks in parallel:   5%|▍         | 24/513 [00:03<00:57,  8.52it/s]"
          ]
        },
        {
          "output_type": "stream",
          "name": "stdout",
          "text": [
            "Successfully fetched https://www.churchofjesuschrist.org/study/general-conference/2024/10/12andersen?lang=eng\n",
            "Successfully fetched https://www.churchofjesuschrist.org/study/general-conference/2024/10/34alvarado?lang=eng\n"
          ]
        },
        {
          "output_type": "stream",
          "name": "stderr",
          "text": [
            "Scraping talks in parallel:   6%|▌         | 31/513 [00:03<00:39, 12.30it/s]"
          ]
        },
        {
          "output_type": "stream",
          "name": "stdout",
          "text": [
            "Successfully fetched https://www.churchofjesuschrist.org/study/general-conference/2024/10/22teixeira?lang=eng\n",
            "Successfully fetched https://www.churchofjesuschrist.org/study/general-conference/2024/10/27cavalcante?lang=eng\n",
            "Successfully fetched https://www.churchofjesuschrist.org/study/general-conference/2024/10/53rasband?lang=eng\n",
            "Successfully fetched https://www.churchofjesuschrist.org/study/general-conference/2024/10/42browning?lang=eng\n",
            "Successfully fetched https://www.churchofjesuschrist.org/study/general-conference/2024/10/25buckner?lang=eng\n",
            "Successfully fetched https://www.churchofjesuschrist.org/study/general-conference/2024/04/56pace?lang=eng\n",
            "Successfully fetched https://www.churchofjesuschrist.org/study/general-conference/2024/10/saturday-morning-session?lang=eng\n",
            "Successfully fetched https://www.churchofjesuschrist.org/study/general-conference/2024/04/47oaks?lang=engSuccessfully fetched https://www.churchofjesuschrist.org/study/general-conference/2024/04/44pieper?lang=eng\n",
            "\n"
          ]
        },
        {
          "output_type": "stream",
          "name": "stderr",
          "text": [
            "Scraping talks in parallel:   7%|▋         | 37/513 [00:04<00:39, 12.11it/s]"
          ]
        },
        {
          "output_type": "stream",
          "name": "stdout",
          "text": [
            "Successfully fetched https://www.churchofjesuschrist.org/study/general-conference/2024/04/52godoy?lang=eng\n",
            "Successfully fetched https://www.churchofjesuschrist.org/study/general-conference/2024/04/15dushku?lang=eng\n",
            "Successfully fetched https://www.churchofjesuschrist.org/study/general-conference/2024/04/45kearon?lang=eng\n",
            "Successfully fetched https://www.churchofjesuschrist.org/study/general-conference/2024/04/33spannaus?lang=eng\n"
          ]
        },
        {
          "output_type": "stream",
          "name": "stderr",
          "text": [
            "\rScraping talks in parallel:   8%|▊         | 40/513 [00:04<00:39, 12.00it/s]"
          ]
        },
        {
          "output_type": "stream",
          "name": "stdout",
          "text": [
            "Successfully fetched https://www.churchofjesuschrist.org/study/general-conference/2024/04/43renlund?lang=eng\n",
            "Successfully fetched https://www.churchofjesuschrist.org/study/general-conference/2024/04/25gong?lang=eng\n",
            "Successfully fetched https://www.churchofjesuschrist.org/study/general-conference/2024/04/51christofferson?lang=eng\n",
            "Successfully fetched https://www.churchofjesuschrist.org/study/general-conference/2024/04/35uchtdorf?lang=eng\n",
            "Successfully fetched https://www.churchofjesuschrist.org/study/general-conference/2024/04/46taylor?lang=eng\n",
            "Successfully fetched https://www.churchofjesuschrist.org/study/general-conference/2024/04/18eyring?lang=eng\n",
            "Successfully fetched https://www.churchofjesuschrist.org/study/general-conference/2024/04/55andersen?lang=eng\n"
          ]
        },
        {
          "output_type": "stream",
          "name": "stderr",
          "text": [
            "Scraping talks in parallel:   9%|▉         | 46/513 [00:05<00:49,  9.34it/s]"
          ]
        },
        {
          "output_type": "stream",
          "name": "stdout",
          "text": [
            "Successfully fetched https://www.churchofjesuschrist.org/study/general-conference/2024/04/16soares?lang=eng\n",
            "Successfully fetched https://www.churchofjesuschrist.org/study/general-conference/2024/04/23nielson?lang=eng\n",
            "Successfully fetched https://www.churchofjesuschrist.org/study/general-conference/2024/04/24alonso?lang=eng\n",
            "Successfully fetched https://www.churchofjesuschrist.org/study/general-conference/2024/04/22de-feo?lang=eng\n"
          ]
        },
        {
          "output_type": "stream",
          "name": "stderr",
          "text": [
            "\rScraping talks in parallel:  10%|▉         | 51/513 [00:05<00:37, 12.29it/s]"
          ]
        },
        {
          "output_type": "stream",
          "name": "stdout",
          "text": [
            "Successfully fetched https://www.churchofjesuschrist.org/study/general-conference/2024/04/32bangerter?lang=eng\n",
            "Successfully fetched https://www.churchofjesuschrist.org/study/general-conference/2024/04/21bednar?lang=eng\n",
            "Successfully fetched https://www.churchofjesuschrist.org/study/general-conference/2024/04/31bowen?lang=eng\n",
            "Successfully fetched https://www.churchofjesuschrist.org/study/general-conference/2024/04/12larson?lang=eng\n",
            "Successfully fetched https://www.churchofjesuschrist.org/study/general-conference/2024/04/57nelson?lang=eng\n"
          ]
        },
        {
          "output_type": "stream",
          "name": "stderr",
          "text": [
            "\rScraping talks in parallel:  11%|█         | 55/513 [00:06<00:39, 11.60it/s]"
          ]
        },
        {
          "output_type": "stream",
          "name": "stdout",
          "text": [
            "Successfully fetched https://www.churchofjesuschrist.org/study/general-conference/2024/04/14dennis?lang=eng\n",
            "Successfully fetched https://www.churchofjesuschrist.org/study/general-conference/2024/04/53stevenson?lang=eng\n",
            "Successfully fetched https://www.churchofjesuschrist.org/study/general-conference/2024/04/17gerard?lang=eng\n",
            "Successfully fetched https://www.churchofjesuschrist.org/study/general-conference/2024/04/54held?lang=eng\n",
            "Successfully fetched https://www.churchofjesuschrist.org/study/general-conference/2024/04/27cook?lang=eng\n",
            "Successfully fetched https://www.churchofjesuschrist.org/study/general-conference/2024/04/34carpenter?lang=eng\n"
          ]
        },
        {
          "output_type": "stream",
          "name": "stderr",
          "text": [
            "Scraping talks in parallel:  12%|█▏        | 59/513 [00:06<00:46,  9.87it/s]"
          ]
        },
        {
          "output_type": "stream",
          "name": "stdout",
          "text": [
            "Successfully fetched https://www.churchofjesuschrist.org/study/general-conference/2024/04/26nelson?lang=eng\n",
            "Successfully fetched https://www.churchofjesuschrist.org/study/general-conference/2024/04/11oaks?lang=eng\n"
          ]
        },
        {
          "output_type": "stream",
          "name": "stderr",
          "text": [
            "\rScraping talks in parallel:  13%|█▎        | 66/513 [00:06<00:26, 16.85it/s]"
          ]
        },
        {
          "output_type": "stream",
          "name": "stdout",
          "text": [
            "Successfully fetched https://www.churchofjesuschrist.org/study/general-conference/2024/04/13holland?lang=eng\n",
            "Successfully fetched https://www.churchofjesuschrist.org/study/general-conference/2024/04/41rasband?lang=eng\n",
            "Successfully fetched https://www.churchofjesuschrist.org/study/general-conference/2024/04/42porter?lang=eng\n"
          ]
        },
        {
          "output_type": "stream",
          "name": "stderr",
          "text": [
            "\rScraping talks in parallel:  13%|█▎        | 69/513 [00:07<00:27, 16.28it/s]"
          ]
        },
        {
          "output_type": "stream",
          "name": "stdout",
          "text": [
            "Successfully fetched https://www.churchofjesuschrist.org/study/general-conference/2023/10/26choi?lang=eng\n",
            "Successfully fetched https://www.churchofjesuschrist.org/study/general-conference/2023/10/22andersen?lang=eng\n",
            "Successfully fetched https://www.churchofjesuschrist.org/study/general-conference/2023/10/31sabin?lang=eng\n",
            "Successfully fetched https://www.churchofjesuschrist.org/study/general-conference/2023/10/16ardern?lang=eng\n",
            "Successfully fetched https://www.churchofjesuschrist.org/study/general-conference/2023/10/12wright?lang=eng\n",
            "Successfully fetched https://www.churchofjesuschrist.org/study/general-conference/2023/10/24costa?lang=eng\n",
            "Successfully fetched https://www.churchofjesuschrist.org/study/general-conference/2023/10/13daines?lang=eng\n",
            "Successfully fetched https://www.churchofjesuschrist.org/study/general-conference/2024/04/saturday-morning-session?lang=eng\n",
            "Successfully fetched https://www.churchofjesuschrist.org/study/general-conference/2023/10/43parrella?lang=eng\n",
            "Successfully fetched https://www.churchofjesuschrist.org/study/general-conference/2023/10/25stevenson?lang=eng\n"
          ]
        },
        {
          "output_type": "stream",
          "name": "stderr",
          "text": [
            "Scraping talks in parallel:  16%|█▌        | 81/513 [00:08<00:27, 15.60it/s]"
          ]
        },
        {
          "output_type": "stream",
          "name": "stdout",
          "text": [
            "Successfully fetched https://www.churchofjesuschrist.org/study/general-conference/2023/10/33runia?lang=eng\n",
            "Successfully fetched https://www.churchofjesuschrist.org/study/general-conference/2023/10/45uchtdorf?lang=eng\n",
            "Successfully fetched https://www.churchofjesuschrist.org/study/general-conference/2023/10/32koch?lang=eng\n",
            "Successfully fetched https://www.churchofjesuschrist.org/study/general-conference/2023/10/28rasband?lang=eng\n",
            "Successfully fetched https://www.churchofjesuschrist.org/study/general-conference/2023/10/42freeman?lang=eng\n",
            "Successfully fetched https://www.churchofjesuschrist.org/study/general-conference/2023/10/15christofferson?lang=eng\n",
            "Successfully fetched https://www.churchofjesuschrist.org/study/general-conference/2023/10/47eyring?lang=eng\n",
            "Successfully fetched https://www.churchofjesuschrist.org/study/general-conference/2023/10/saturday-morning-session?lang=engSuccessfully fetched https://www.churchofjesuschrist.org/study/general-conference/2023/10/53cordon?lang=eng\n",
            "Successfully fetched https://www.churchofjesuschrist.org/study/general-conference/2023/10/46waddell?lang=eng\n",
            "Successfully fetched https://www.churchofjesuschrist.org/study/general-conference/2023/10/17oaks?lang=eng\n",
            "\n",
            "Successfully fetched https://www.churchofjesuschrist.org/study/general-conference/2023/10/14godoy?lang=eng\n"
          ]
        },
        {
          "output_type": "stream",
          "name": "stderr",
          "text": [
            "\rScraping talks in parallel:  17%|█▋        | 85/513 [00:08<00:41, 10.29it/s]"
          ]
        },
        {
          "output_type": "stream",
          "name": "stdout",
          "text": [
            "Successfully fetched https://www.churchofjesuschrist.org/study/general-conference/2023/10/54gong?lang=eng\n",
            "Successfully fetched https://www.churchofjesuschrist.org/study/general-conference/2023/10/11bednar?lang=eng\n",
            "Successfully fetched https://www.churchofjesuschrist.org/study/general-conference/2023/10/23newman?lang=eng\n",
            "Successfully fetched https://www.churchofjesuschrist.org/study/general-conference/2023/10/27phillips?lang=eng\n"
          ]
        },
        {
          "output_type": "stream",
          "name": "stderr",
          "text": [
            "Scraping talks in parallel:  18%|█▊        | 94/513 [00:09<00:27, 15.25it/s]"
          ]
        },
        {
          "output_type": "stream",
          "name": "stdout",
          "text": [
            "Successfully fetched https://www.churchofjesuschrist.org/study/general-conference/2023/10/57renlund?lang=eng\n",
            "Successfully fetched https://www.churchofjesuschrist.org/study/general-conference/2023/10/21eyring?lang=eng\n",
            "Successfully fetched https://www.churchofjesuschrist.org/study/general-conference/2023/10/34soares?lang=eng\n",
            "Successfully fetched https://www.churchofjesuschrist.org/study/general-conference/2023/10/55esplin?lang=engSuccessfully fetched https://www.churchofjesuschrist.org/study/general-conference/2023/10/51nelson?lang=eng\n",
            "\n",
            "Successfully fetched https://www.churchofjesuschrist.org/study/general-conference/2023/10/44cook?lang=eng\n",
            "Successfully fetched https://www.churchofjesuschrist.org/study/general-conference/2023/10/41ballard?lang=eng\n",
            "Successfully fetched https://www.churchofjesuschrist.org/study/general-conference/2023/10/56giraud-carrier?lang=eng\n",
            "Successfully fetched https://www.churchofjesuschrist.org/study/general-conference/2023/04/53rasband?lang=eng"
          ]
        },
        {
          "output_type": "stream",
          "name": "stderr",
          "text": [
            "\rScraping talks in parallel:  19%|█▉        | 98/513 [00:09<00:39, 10.57it/s]"
          ]
        },
        {
          "output_type": "stream",
          "name": "stdout",
          "text": [
            "\n",
            "Successfully fetched https://www.churchofjesuschrist.org/study/general-conference/2023/10/52pingree?lang=eng\n"
          ]
        },
        {
          "output_type": "stream",
          "name": "stderr",
          "text": [
            "\rScraping talks in parallel:  20%|█▉        | 101/513 [00:10<00:48,  8.57it/s]"
          ]
        },
        {
          "output_type": "stream",
          "name": "stdout",
          "text": [
            "Successfully fetched https://www.churchofjesuschrist.org/study/general-conference/2023/04/23renlund?lang=eng\n",
            "Successfully fetched https://www.churchofjesuschrist.org/study/general-conference/2023/04/15cook?lang=eng\n",
            "Successfully fetched https://www.churchofjesuschrist.org/study/general-conference/2023/04/33nattress?lang=eng\n",
            "Successfully fetched https://www.churchofjesuschrist.org/study/general-conference/2023/04/21oaks?lang=engSuccessfully fetched https://www.churchofjesuschrist.org/study/general-conference/2023/04/25bennett?lang=eng\n",
            "\n",
            "Successfully fetched https://www.churchofjesuschrist.org/study/general-conference/2023/04/26christensen?lang=eng\n",
            "Successfully fetched https://www.churchofjesuschrist.org/study/general-conference/2023/04/27schmutz?lang=eng\n",
            "Successfully fetched https://www.churchofjesuschrist.org/study/general-conference/2023/04/11stevenson?lang=eng\n",
            "Successfully fetched https://www.churchofjesuschrist.org/study/general-conference/2023/04/43soares?lang=eng\n",
            "Successfully fetched https://www.churchofjesuschrist.org/study/general-conference/2023/04/32camargo?lang=eng\n",
            "Successfully fetched https://www.churchofjesuschrist.org/study/general-conference/2023/04/34uceda?lang=eng\n",
            "Successfully fetched https://www.churchofjesuschrist.org/study/general-conference/2023/04/41christofferson?lang=eng\n",
            "Successfully fetched https://www.churchofjesuschrist.org/study/general-conference/2023/04/57bednar?lang=eng\n"
          ]
        },
        {
          "output_type": "stream",
          "name": "stderr",
          "text": [
            "\rScraping talks in parallel:  20%|██        | 103/513 [00:12<02:00,  3.41it/s]"
          ]
        },
        {
          "output_type": "stream",
          "name": "stdout",
          "text": [
            "Successfully fetched https://www.churchofjesuschrist.org/study/general-conference/2023/04/52ballard?lang=eng\n",
            "Successfully fetched https://www.churchofjesuschrist.org/study/general-conference/2023/04/42johnson?lang=eng\n",
            "Successfully fetched https://www.churchofjesuschrist.org/study/general-conference/2023/04/saturday-morning-session?lang=eng\n"
          ]
        },
        {
          "output_type": "stream",
          "name": "stderr",
          "text": [
            "Scraping talks in parallel:  23%|██▎       | 120/513 [00:13<00:46,  8.40it/s]"
          ]
        },
        {
          "output_type": "stream",
          "name": "stdout",
          "text": [
            "Successfully fetched https://www.churchofjesuschrist.org/study/general-conference/2023/04/45andersen?lang=eng\n",
            "Successfully fetched https://www.churchofjesuschrist.org/study/general-conference/2023/04/44yamashita?lang=eng\n",
            "Successfully fetched https://www.churchofjesuschrist.org/study/general-conference/2023/04/13cook?lang=eng\n",
            "Successfully fetched https://www.churchofjesuschrist.org/study/general-conference/2023/04/47nelson?lang=eng\n",
            "Successfully fetched https://www.churchofjesuschrist.org/study/general-conference/2023/04/17eyring?lang=eng\n",
            "Successfully fetched https://www.churchofjesuschrist.org/study/general-conference/2023/04/51oaks?lang=eng\n",
            "Successfully fetched https://www.churchofjesuschrist.org/study/general-conference/2023/04/31bragg?lang=eng\n",
            "Successfully fetched https://www.churchofjesuschrist.org/study/general-conference/2023/04/58nelson?lang=eng\n",
            "Successfully fetched https://www.churchofjesuschrist.org/study/general-conference/2023/04/12cordon?lang=eng\n"
          ]
        },
        {
          "output_type": "stream",
          "name": "stderr",
          "text": [
            "Scraping talks in parallel:  25%|██▍       | 126/513 [00:15<01:03,  6.12it/s]"
          ]
        },
        {
          "output_type": "stream",
          "name": "stdout",
          "text": [
            "Successfully fetched https://www.churchofjesuschrist.org/study/general-conference/2023/04/28de-hoyos?lang=eng\n",
            "Successfully fetched https://www.churchofjesuschrist.org/study/general-conference/2023/04/46duncan?lang=engSuccessfully fetched https://www.churchofjesuschrist.org/study/general-conference/2023/04/29uchtdorf?lang=eng\n",
            "\n",
            "Successfully fetched https://www.churchofjesuschrist.org/study/general-conference/2023/04/54stanfill?lang=eng\n",
            "Successfully fetched https://www.churchofjesuschrist.org/study/general-conference/2023/04/14gong?lang=eng\n"
          ]
        },
        {
          "output_type": "stream",
          "name": "stderr",
          "text": [
            "\rScraping talks in parallel:  26%|██▌       | 131/513 [00:15<00:46,  8.14it/s]"
          ]
        },
        {
          "output_type": "stream",
          "name": "stdout",
          "text": [
            "Successfully fetched https://www.churchofjesuschrist.org/study/general-conference/2023/04/56corbitt?lang=eng\n",
            "Successfully fetched https://www.churchofjesuschrist.org/study/general-conference/2023/04/55bassett?lang=eng\n",
            "Successfully fetched https://www.churchofjesuschrist.org/study/general-conference/2023/04/24meurs?lang=eng\n",
            "Successfully fetched https://www.churchofjesuschrist.org/study/general-conference/2023/04/16haynie?lang=eng\n",
            "Successfully fetched https://www.churchofjesuschrist.org/study/general-conference/2023/04/22larson?lang=eng\n",
            "Successfully fetched https://www.churchofjesuschrist.org/study/general-conference/2022/10/23yee?lang=eng\n"
          ]
        },
        {
          "output_type": "stream",
          "name": "stderr",
          "text": [
            "Scraping talks in parallel:  27%|██▋       | 138/513 [00:16<00:50,  7.45it/s]"
          ]
        },
        {
          "output_type": "stream",
          "name": "stdout",
          "text": [
            "Successfully fetched https://www.churchofjesuschrist.org/study/general-conference/2022/10/42dennis?lang=eng\n",
            "Successfully fetched https://www.churchofjesuschrist.org/study/general-conference/2022/10/31causse?lang=eng\n",
            "Successfully fetched https://www.churchofjesuschrist.org/study/general-conference/2022/10/25soares?lang=eng\n",
            "Successfully fetched https://www.churchofjesuschrist.org/study/general-conference/2022/10/51eyring?lang=eng\n",
            "Successfully fetched https://www.churchofjesuschrist.org/study/general-conference/2022/10/15pino?lang=eng\n",
            "Successfully fetched https://www.churchofjesuschrist.org/study/general-conference/2022/10/26mcconkie?lang=eng\n",
            "Successfully fetched https://www.churchofjesuschrist.org/study/general-conference/2022/10/21eyring?lang=engSuccessfully fetched https://www.churchofjesuschrist.org/study/general-conference/2022/10/33pearson?lang=eng\n",
            "\n",
            "Successfully fetched https://www.churchofjesuschrist.org/study/general-conference/2022/10/34silva?lang=eng\n",
            "Successfully fetched https://www.churchofjesuschrist.org/study/general-conference/2022/10/58nelson?lang=eng\n",
            "Successfully fetched https://www.churchofjesuschrist.org/study/general-conference/2022/10/14renlund?lang=eng\n",
            "Successfully fetched https://www.churchofjesuschrist.org/study/general-conference/2022/10/53schmitt?lang=eng\n"
          ]
        },
        {
          "output_type": "stream",
          "name": "stderr",
          "text": [
            "\rScraping talks in parallel:  28%|██▊       | 143/513 [00:19<01:29,  4.13it/s]"
          ]
        },
        {
          "output_type": "stream",
          "name": "stdout",
          "text": [
            "Successfully fetched https://www.churchofjesuschrist.org/study/general-conference/2022/10/19nelson?lang=eng\n"
          ]
        },
        {
          "output_type": "stream",
          "name": "stderr",
          "text": [
            "\rScraping talks in parallel:  28%|██▊       | 145/513 [00:19<01:25,  4.29it/s]"
          ]
        },
        {
          "output_type": "stream",
          "name": "stdout",
          "text": [
            "Successfully fetched https://www.churchofjesuschrist.org/study/general-conference/2022/10/35andersen?lang=eng\n",
            "Successfully fetched https://www.churchofjesuschrist.org/study/general-conference/2022/10/45lund?lang=eng\n"
          ]
        },
        {
          "output_type": "stream",
          "name": "stderr",
          "text": [
            "\rScraping talks in parallel:  30%|██▉       | 153/513 [00:19<00:52,  6.87it/s]"
          ]
        },
        {
          "output_type": "stream",
          "name": "stdout",
          "text": [
            "Successfully fetched https://www.churchofjesuschrist.org/study/general-conference/2022/10/41holland?lang=eng\n",
            "Successfully fetched https://www.churchofjesuschrist.org/study/general-conference/2022/10/13browning?lang=eng\n",
            "Successfully fetched https://www.churchofjesuschrist.org/study/general-conference/2022/10/22ballard?lang=eng\n",
            "Successfully fetched https://www.churchofjesuschrist.org/study/general-conference/2022/10/12uchtdorf?lang=eng\n",
            "Successfully fetched https://www.churchofjesuschrist.org/study/general-conference/2022/10/56morrison?lang=eng\n"
          ]
        },
        {
          "output_type": "stream",
          "name": "stderr",
          "text": [
            "Scraping talks in parallel:  31%|███       | 157/513 [00:20<00:44,  7.93it/s]"
          ]
        },
        {
          "output_type": "stream",
          "name": "stdout",
          "text": [
            "Successfully fetched https://www.churchofjesuschrist.org/study/general-conference/2022/10/55stevenson?lang=eng\n",
            "Successfully fetched https://www.churchofjesuschrist.org/study/general-conference/2022/10/44sitati?lang=eng\n"
          ]
        },
        {
          "output_type": "stream",
          "name": "stderr",
          "text": [
            "\rScraping talks in parallel:  31%|███       | 159/513 [00:20<00:47,  7.42it/s]"
          ]
        },
        {
          "output_type": "stream",
          "name": "stdout",
          "text": [
            "Successfully fetched https://www.churchofjesuschrist.org/study/general-conference/2022/10/28christofferson?lang=eng\n",
            "Successfully fetched https://www.churchofjesuschrist.org/study/general-conference/2022/10/54eddy?lang=engSuccessfully fetched https://www.churchofjesuschrist.org/study/general-conference/2022/10/17rasband?lang=eng\n",
            "\n"
          ]
        },
        {
          "output_type": "stream",
          "name": "stderr",
          "text": [
            "Scraping talks in parallel:  32%|███▏      | 165/513 [00:21<00:40,  8.62it/s]"
          ]
        },
        {
          "output_type": "stream",
          "name": "stdout",
          "text": [
            "Successfully fetched https://www.churchofjesuschrist.org/study/general-conference/2022/10/18oaks?lang=eng\n",
            "Successfully fetched https://www.churchofjesuschrist.org/study/general-conference/2022/10/43gong?lang=eng\n",
            "Successfully fetched https://www.churchofjesuschrist.org/study/general-conference/2022/10/16montoya?lang=eng\n",
            "Successfully fetched https://www.churchofjesuschrist.org/study/general-conference/2022/10/46bednar?lang=eng\n",
            "Successfully fetched https://www.churchofjesuschrist.org/study/general-conference/2022/10/47nelson?lang=eng\n",
            "Successfully fetched https://www.churchofjesuschrist.org/study/general-conference/2022/10/52olsen?lang=eng\n"
          ]
        },
        {
          "output_type": "stream",
          "name": "stderr",
          "text": [
            "\rScraping talks in parallel:  33%|███▎      | 167/513 [00:22<01:03,  5.44it/s]"
          ]
        },
        {
          "output_type": "stream",
          "name": "stdout",
          "text": [
            "Successfully fetched https://www.churchofjesuschrist.org/study/general-conference/2022/10/57cook?lang=engSuccessfully fetched https://www.churchofjesuschrist.org/study/general-conference/2022/10/saturday-morning-session?lang=eng\n",
            "\n",
            "Successfully fetched https://www.churchofjesuschrist.org/study/general-conference/2022/10/32craig?lang=eng\n"
          ]
        },
        {
          "output_type": "stream",
          "name": "stderr",
          "text": [
            "Scraping talks in parallel:  34%|███▍      | 175/513 [00:22<00:39,  8.52it/s]"
          ]
        },
        {
          "output_type": "stream",
          "name": "stdout",
          "text": [
            "Successfully fetched https://www.churchofjesuschrist.org/study/general-conference/2022/04/11nelson?lang=eng\n",
            "Successfully fetched https://www.churchofjesuschrist.org/study/general-conference/2022/10/24johnson?lang=eng\n",
            "Successfully fetched https://www.churchofjesuschrist.org/study/general-conference/2022/04/47nelson?lang=eng\n",
            "Successfully fetched https://www.churchofjesuschrist.org/study/general-conference/2022/10/27zeballos?lang=eng\n"
          ]
        },
        {
          "output_type": "stream",
          "name": "stderr",
          "text": [
            "\rScraping talks in parallel:  35%|███▍      | 177/513 [00:23<00:38,  8.69it/s]"
          ]
        },
        {
          "output_type": "stream",
          "name": "stdout",
          "text": [
            "Successfully fetched https://www.churchofjesuschrist.org/study/general-conference/2022/04/53klebingat?lang=eng\n",
            "Successfully fetched https://www.churchofjesuschrist.org/study/general-conference/2022/04/58nelson?lang=eng\n",
            "Successfully fetched https://www.churchofjesuschrist.org/study/general-conference/2022/04/12ballard?lang=eng\n",
            "Successfully fetched https://www.churchofjesuschrist.org/study/general-conference/2022/04/43stevenson?lang=eng\n",
            "Successfully fetched https://www.churchofjesuschrist.org/study/general-conference/2022/04/18eyring?lang=eng\n",
            "Successfully fetched https://www.churchofjesuschrist.org/study/general-conference/2022/04/56funk?lang=engSuccessfully fetched https://www.churchofjesuschrist.org/study/general-conference/2022/04/46martinez?lang=eng\n",
            "Successfully fetched https://www.churchofjesuschrist.org/study/general-conference/2022/04/15andersen?lang=eng\n",
            "\n",
            "Successfully fetched https://www.churchofjesuschrist.org/study/general-conference/2022/04/14bednar?lang=eng\n",
            "Successfully fetched https://www.churchofjesuschrist.org/study/general-conference/2022/04/28hamilton?lang=eng\n"
          ]
        },
        {
          "output_type": "stream",
          "name": "stderr",
          "text": [
            "Scraping talks in parallel:  36%|███▌      | 183/513 [00:24<00:53,  6.19it/s]"
          ]
        },
        {
          "output_type": "stream",
          "name": "stdout",
          "text": [
            "Successfully fetched https://www.churchofjesuschrist.org/study/general-conference/2022/04/41christofferson?lang=eng\n"
          ]
        },
        {
          "output_type": "stream",
          "name": "stderr",
          "text": [
            "\rScraping talks in parallel:  37%|███▋      | 189/513 [00:24<00:29, 11.01it/s]"
          ]
        },
        {
          "output_type": "stream",
          "name": "stdout",
          "text": [
            "Successfully fetched https://www.churchofjesuschrist.org/study/general-conference/2022/04/saturday-morning-session?lang=eng\n",
            "Successfully fetched https://www.churchofjesuschrist.org/study/general-conference/2022/04/32porter?lang=eng\n",
            "Successfully fetched https://www.churchofjesuschrist.org/study/general-conference/2022/04/44ringwood?lang=eng\n",
            "Successfully fetched https://www.churchofjesuschrist.org/study/general-conference/2022/04/33craven?lang=eng\n",
            "Successfully fetched https://www.churchofjesuschrist.org/study/general-conference/2022/04/31oaks?lang=eng\n",
            "Successfully fetched https://www.churchofjesuschrist.org/study/general-conference/2022/04/21oaks?lang=eng\n",
            "Successfully fetched https://www.churchofjesuschrist.org/study/general-conference/2022/04/42wright?lang=eng\n",
            "Successfully fetched https://www.churchofjesuschrist.org/study/general-conference/2022/04/13aburto?lang=eng\n",
            "Successfully fetched https://www.churchofjesuschrist.org/study/general-conference/2022/04/52ojediran?lang=eng\n"
          ]
        },
        {
          "output_type": "stream",
          "name": "stderr",
          "text": [
            "\rScraping talks in parallel:  37%|███▋      | 192/513 [00:25<00:45,  7.09it/s]"
          ]
        },
        {
          "output_type": "stream",
          "name": "stdout",
          "text": [
            "Successfully fetched https://www.churchofjesuschrist.org/study/general-conference/2022/04/36renlund?lang=eng\n",
            "Successfully fetched https://www.churchofjesuschrist.org/study/general-conference/2022/04/45rasband?lang=eng\n"
          ]
        },
        {
          "output_type": "stream",
          "name": "stderr",
          "text": [
            "Scraping talks in parallel:  38%|███▊      | 196/513 [00:26<00:54,  5.80it/s]"
          ]
        },
        {
          "output_type": "stream",
          "name": "stdout",
          "text": [
            "Successfully fetched https://www.churchofjesuschrist.org/study/general-conference/2022/04/29cook?lang=eng\n"
          ]
        },
        {
          "output_type": "stream",
          "name": "stderr",
          "text": [
            "\rScraping talks in parallel:  39%|███▉      | 202/513 [00:26<00:36,  8.42it/s]"
          ]
        },
        {
          "output_type": "stream",
          "name": "stdout",
          "text": [
            "Successfully fetched https://www.churchofjesuschrist.org/study/general-conference/2022/04/57uchtdorf?lang=eng\n",
            "Successfully fetched https://www.churchofjesuschrist.org/study/general-conference/2022/04/34video?lang=eng\n"
          ]
        },
        {
          "output_type": "stream",
          "name": "stderr",
          "text": [
            "\rScraping talks in parallel:  40%|███▉      | 204/513 [00:27<00:40,  7.68it/s]"
          ]
        },
        {
          "output_type": "stream",
          "name": "stdout",
          "text": [
            "Successfully fetched https://www.churchofjesuschrist.org/study/general-conference/2022/04/26gong?lang=eng\n",
            "Successfully fetched https://www.churchofjesuschrist.org/study/general-conference/2022/04/55soares?lang=engSuccessfully fetched https://www.churchofjesuschrist.org/study/general-conference/2022/04/25aidukaitis?lang=eng\n",
            "\n",
            "Successfully fetched https://www.churchofjesuschrist.org/study/general-conference/2022/04/16gavarret?lang=eng\n",
            "Successfully fetched https://www.churchofjesuschrist.org/study/general-conference/2022/04/23holland?lang=eng\n",
            "Successfully fetched https://www.churchofjesuschrist.org/study/general-conference/2022/04/35bingham?lang=eng\n",
            "Successfully fetched https://www.churchofjesuschrist.org/study/general-conference/2022/04/17kacher?lang=eng\n",
            "Successfully fetched https://www.churchofjesuschrist.org/study/general-conference/2022/04/54pace?lang=eng\n",
            "Successfully fetched https://www.churchofjesuschrist.org/study/general-conference/2022/04/22larson?lang=eng\n"
          ]
        },
        {
          "output_type": "stream",
          "name": "stderr",
          "text": [
            "\rScraping talks in parallel:  40%|████      | 206/513 [00:28<01:10,  4.36it/s]"
          ]
        },
        {
          "output_type": "stream",
          "name": "stdout",
          "text": [
            "Successfully fetched https://www.churchofjesuschrist.org/study/general-conference/2022/04/51oaks?lang=eng\n",
            "Successfully fetched https://www.churchofjesuschrist.org/study/general-conference/2022/04/24kearon?lang=eng\n",
            "Successfully fetched https://www.churchofjesuschrist.org/study/general-conference/2022/04/27ochoa?lang=eng\n",
            "Successfully fetched https://www.churchofjesuschrist.org/study/general-conference/2021/10/14soares?lang=eng\n"
          ]
        },
        {
          "output_type": "stream",
          "name": "stderr",
          "text": [
            "Scraping talks in parallel:  42%|████▏     | 213/513 [00:28<00:38,  7.85it/s]"
          ]
        },
        {
          "output_type": "stream",
          "name": "stdout",
          "text": [
            "Successfully fetched https://www.churchofjesuschrist.org/study/general-conference/2021/10/24porter?lang=eng\n",
            "Successfully fetched https://www.churchofjesuschrist.org/study/general-conference/2021/10/44sikahema?lang=eng\n",
            "Successfully fetched https://www.churchofjesuschrist.org/study/general-conference/2021/10/54dunn?lang=eng\n",
            "Successfully fetched https://www.churchofjesuschrist.org/study/general-conference/2021/10/29stevenson?lang=eng\n"
          ]
        },
        {
          "output_type": "stream",
          "name": "stderr",
          "text": [
            "Scraping talks in parallel:  42%|████▏     | 216/513 [00:29<00:48,  6.07it/s]"
          ]
        },
        {
          "output_type": "stream",
          "name": "stdout",
          "text": [
            "Successfully fetched https://www.churchofjesuschrist.org/study/general-conference/2021/10/58andersen?lang=eng\n",
            "Successfully fetched https://www.churchofjesuschrist.org/study/general-conference/2021/10/56revillo?lang=eng\n"
          ]
        },
        {
          "output_type": "stream",
          "name": "stderr",
          "text": [
            "\rScraping talks in parallel:  42%|████▏     | 218/513 [00:29<00:43,  6.76it/s]"
          ]
        },
        {
          "output_type": "stream",
          "name": "stdout",
          "text": [
            "Successfully fetched https://www.churchofjesuschrist.org/study/general-conference/2021/10/23schmeil?lang=eng\n",
            "Successfully fetched https://www.churchofjesuschrist.org/study/general-conference/2021/10/28villanueva?lang=eng\n"
          ]
        },
        {
          "output_type": "stream",
          "name": "stderr",
          "text": [
            "\rScraping talks in parallel:  43%|████▎     | 219/513 [00:30<00:56,  5.17it/s]"
          ]
        },
        {
          "output_type": "stream",
          "name": "stdout",
          "text": [
            "Successfully fetched https://www.churchofjesuschrist.org/study/general-conference/2021/10/57meredith?lang=eng\n",
            "Successfully fetched https://www.churchofjesuschrist.org/study/general-conference/2021/10/22bednar?lang=eng\n"
          ]
        },
        {
          "output_type": "stream",
          "name": "stderr",
          "text": [
            "Scraping talks in parallel:  44%|████▍     | 228/513 [00:30<00:25, 10.98it/s]"
          ]
        },
        {
          "output_type": "stream",
          "name": "stdout",
          "text": [
            "Successfully fetched https://www.churchofjesuschrist.org/study/general-conference/2021/10/35wilcox?lang=eng\n",
            "Successfully fetched https://www.churchofjesuschrist.org/study/general-conference/2021/10/15christofferson?lang=eng\n",
            "Successfully fetched https://www.churchofjesuschrist.org/study/general-conference/2021/10/26rasband?lang=eng\n",
            "Successfully fetched https://www.churchofjesuschrist.org/study/general-conference/2021/10/18oaks?lang=eng\n",
            "Successfully fetched https://www.churchofjesuschrist.org/study/general-conference/2021/10/51gong?lang=eng\n",
            "Successfully fetched https://www.churchofjesuschrist.org/study/general-conference/2021/10/52budge?lang=eng\n",
            "Successfully fetched https://www.churchofjesuschrist.org/study/general-conference/2021/10/55douglas?lang=eng\n"
          ]
        },
        {
          "output_type": "stream",
          "name": "stderr",
          "text": [
            "\rScraping talks in parallel:  45%|████▌     | 231/513 [00:31<00:37,  7.50it/s]"
          ]
        },
        {
          "output_type": "stream",
          "name": "stdout",
          "text": [
            "Successfully fetched https://www.churchofjesuschrist.org/study/general-conference/2021/10/33nielson?lang=eng\n",
            "Successfully fetched https://www.churchofjesuschrist.org/study/general-conference/2021/10/saturday-morning-session?lang=eng\n"
          ]
        },
        {
          "output_type": "stream",
          "name": "stderr",
          "text": [
            "\rScraping talks in parallel:  46%|████▌     | 234/513 [00:31<00:30,  9.23it/s]"
          ]
        },
        {
          "output_type": "stream",
          "name": "stdout",
          "text": [
            "Successfully fetched https://www.churchofjesuschrist.org/study/general-conference/2021/10/21eyring?lang=eng\n",
            "Successfully fetched https://www.churchofjesuschrist.org/study/general-conference/2021/10/37nash?lang=eng\n",
            "Successfully fetched https://www.churchofjesuschrist.org/study/general-conference/2021/10/13cordon?lang=eng\n",
            "Successfully fetched https://www.churchofjesuschrist.org/study/general-conference/2021/10/32eubank?lang=eng\n",
            "Successfully fetched https://www.churchofjesuschrist.org/study/general-conference/2021/10/36kyungu?lang=eng\n",
            "Successfully fetched https://www.churchofjesuschrist.org/study/general-conference/2021/10/17giuffra?lang=eng\n",
            "Successfully fetched https://www.churchofjesuschrist.org/study/general-conference/2021/10/47nelson?lang=eng\n",
            "Successfully fetched https://www.churchofjesuschrist.org/study/general-conference/2021/10/34valenzuela?lang=eng\n",
            "Successfully fetched https://www.churchofjesuschrist.org/study/general-conference/2021/10/25kopischke?lang=engSuccessfully fetched https://www.churchofjesuschrist.org/study/general-conference/2021/10/41uchtdorf?lang=eng\n",
            "\n",
            "Successfully fetched https://www.churchofjesuschrist.org/study/general-conference/2021/10/59nelson?lang=eng\n"
          ]
        },
        {
          "output_type": "stream",
          "name": "stderr",
          "text": [
            "Scraping talks in parallel:  47%|████▋     | 241/513 [00:33<00:42,  6.38it/s]"
          ]
        },
        {
          "output_type": "stream",
          "name": "stdout",
          "text": [
            "Successfully fetched https://www.churchofjesuschrist.org/study/general-conference/2021/10/31ballard?lang=eng\n",
            "Successfully fetched https://www.churchofjesuschrist.org/study/general-conference/2021/10/16gilbert?lang=eng\n"
          ]
        },
        {
          "output_type": "stream",
          "name": "stderr",
          "text": [
            "\rScraping talks in parallel:  49%|████▊     | 249/513 [00:33<00:22, 11.66it/s]"
          ]
        },
        {
          "output_type": "stream",
          "name": "stdout",
          "text": [
            "Successfully fetched https://www.churchofjesuschrist.org/study/general-conference/2021/10/12holland?lang=eng\n",
            "Successfully fetched https://www.churchofjesuschrist.org/study/general-conference/2021/10/42johnson?lang=eng\n",
            "Successfully fetched https://www.churchofjesuschrist.org/study/general-conference/2021/10/43renlund?lang=eng\n"
          ]
        },
        {
          "output_type": "stream",
          "name": "stderr",
          "text": [
            "\rScraping talks in parallel:  49%|████▉     | 252/513 [00:33<00:23, 11.01it/s]"
          ]
        },
        {
          "output_type": "stream",
          "name": "stdout",
          "text": [
            "Successfully fetched https://www.churchofjesuschrist.org/study/general-conference/2021/10/27golden?lang=eng\n",
            "Successfully fetched https://www.churchofjesuschrist.org/study/general-conference/2021/10/38eyring?lang=eng\n",
            "Successfully fetched https://www.churchofjesuschrist.org/study/general-conference/2021/10/53perkins?lang=eng\n",
            "Successfully fetched https://www.churchofjesuschrist.org/study/general-conference/2021/10/46cook?lang=eng\n",
            "Successfully fetched https://www.churchofjesuschrist.org/study/general-conference/2021/04/44dube?lang=eng\n",
            "Successfully fetched https://www.churchofjesuschrist.org/study/general-conference/2021/04/14newman?lang=eng\n",
            "Successfully fetched https://www.churchofjesuschrist.org/study/general-conference/2021/10/11nelson?lang=eng\n",
            "Successfully fetched https://www.churchofjesuschrist.org/study/general-conference/2021/04/13jones?lang=eng\n",
            "Successfully fetched https://www.churchofjesuschrist.org/study/general-conference/2021/04/52rasband?lang=eng\n"
          ]
        },
        {
          "output_type": "stream",
          "name": "stderr",
          "text": [
            "Scraping talks in parallel:  51%|█████     | 262/513 [00:34<00:20, 12.00it/s]"
          ]
        },
        {
          "output_type": "stream",
          "name": "stdout",
          "text": [
            "Successfully fetched https://www.churchofjesuschrist.org/study/general-conference/2021/04/23holland?lang=eng\n",
            "Successfully fetched https://www.churchofjesuschrist.org/study/general-conference/2021/04/31cook?lang=eng\n",
            "Successfully fetched https://www.churchofjesuschrist.org/study/general-conference/2021/04/53dyches?lang=eng\n",
            "Successfully fetched https://www.churchofjesuschrist.org/study/general-conference/2021/04/12uchtdorf?lang=eng\n",
            "Successfully fetched https://www.churchofjesuschrist.org/study/general-conference/2021/04/21oaks?lang=eng\n",
            "Successfully fetched https://www.churchofjesuschrist.org/study/general-conference/2021/04/15stevenson?lang=eng\n",
            "Successfully fetched https://www.churchofjesuschrist.org/study/general-conference/2021/04/17eyring?lang=eng\n",
            "Successfully fetched https://www.churchofjesuschrist.org/study/general-conference/2021/04/41soares?lang=eng\n",
            "Successfully fetched https://www.churchofjesuschrist.org/study/general-conference/2021/04/51oaks?lang=eng\n",
            "Successfully fetched https://www.churchofjesuschrist.org/study/general-conference/2021/04/32corbitt?lang=eng\n",
            "Successfully fetched https://www.churchofjesuschrist.org/study/general-conference/2021/04/33nielsen?lang=eng\n"
          ]
        },
        {
          "output_type": "stream",
          "name": "stderr",
          "text": [
            "Scraping talks in parallel:  52%|█████▏    | 269/513 [00:35<00:27,  8.85it/s]"
          ]
        },
        {
          "output_type": "stream",
          "name": "stdout",
          "text": [
            "Successfully fetched https://www.churchofjesuschrist.org/study/general-conference/2021/04/36nelson?lang=eng\n",
            "Successfully fetched https://www.churchofjesuschrist.org/study/general-conference/2021/04/saturday-morning-session?lang=eng\n"
          ]
        },
        {
          "output_type": "stream",
          "name": "stderr",
          "text": [
            "\rScraping talks in parallel:  53%|█████▎    | 272/513 [00:36<00:24,  9.92it/s]"
          ]
        },
        {
          "output_type": "stream",
          "name": "stdout",
          "text": [
            "Successfully fetched https://www.churchofjesuschrist.org/study/general-conference/2021/04/42aburto?lang=eng\n",
            "Successfully fetched https://www.churchofjesuschrist.org/study/general-conference/2021/04/25renlund?lang=eng\n",
            "Successfully fetched https://www.churchofjesuschrist.org/study/general-conference/2021/04/57nelson?lang=eng\n"
          ]
        },
        {
          "output_type": "stream",
          "name": "stderr",
          "text": [
            "\rScraping talks in parallel:  54%|█████▍    | 276/513 [00:36<00:20, 11.53it/s]"
          ]
        },
        {
          "output_type": "stream",
          "name": "stdout",
          "text": [
            "Successfully fetched https://www.churchofjesuschrist.org/study/general-conference/2021/04/24becerra?lang=eng\n",
            "Successfully fetched https://www.churchofjesuschrist.org/study/general-conference/2021/04/26andersen?lang=eng\n",
            "Successfully fetched https://www.churchofjesuschrist.org/study/general-conference/2021/04/28ballard?lang=engSuccessfully fetched https://www.churchofjesuschrist.org/study/general-conference/2021/04/34eyring?lang=eng\n",
            "\n",
            "Successfully fetched https://www.churchofjesuschrist.org/study/general-conference/2021/04/54christofferson?lang=eng\n",
            "Successfully fetched https://www.churchofjesuschrist.org/study/general-conference/2021/04/49nelson?lang=eng\n",
            "Successfully fetched https://www.churchofjesuschrist.org/study/general-conference/2021/04/55walker?lang=eng\n",
            "Successfully fetched https://www.churchofjesuschrist.org/study/general-conference/2021/04/22larson?lang=eng\n"
          ]
        },
        {
          "output_type": "stream",
          "name": "stderr",
          "text": [
            "Scraping talks in parallel:  55%|█████▍    | 282/513 [00:37<00:25,  9.13it/s]"
          ]
        },
        {
          "output_type": "stream",
          "name": "stdout",
          "text": [
            "Successfully fetched https://www.churchofjesuschrist.org/study/general-conference/2021/04/27mutombo?lang=eng\n",
            "Successfully fetched https://www.churchofjesuschrist.org/study/general-conference/2021/04/46wakolo?lang=eng\n",
            "Successfully fetched https://www.churchofjesuschrist.org/study/general-conference/2021/04/43palmer?lang=eng\n"
          ]
        },
        {
          "output_type": "stream",
          "name": "stderr",
          "text": [
            "\rScraping talks in parallel:  56%|█████▌    | 287/513 [00:37<00:19, 11.87it/s]"
          ]
        },
        {
          "output_type": "stream",
          "name": "stdout",
          "text": [
            "Successfully fetched https://www.churchofjesuschrist.org/study/general-conference/2021/04/45teixeira?lang=eng\n",
            "Successfully fetched https://www.churchofjesuschrist.org/study/general-conference/2021/04/11nelson?lang=eng\n",
            "Successfully fetched https://www.churchofjesuschrist.org/study/general-conference/2021/04/35oaks?lang=eng\n",
            "Successfully fetched https://www.churchofjesuschrist.org/study/general-conference/2021/04/47wong?lang=eng"
          ]
        },
        {
          "output_type": "stream",
          "name": "stderr",
          "text": [
            "\rScraping talks in parallel:  57%|█████▋    | 290/513 [00:37<00:21, 10.52it/s]"
          ]
        },
        {
          "output_type": "stream",
          "name": "stdout",
          "text": [
            "\n",
            "Successfully fetched https://www.churchofjesuschrist.org/study/general-conference/2021/04/56bednar?lang=eng\n",
            "Successfully fetched https://www.churchofjesuschrist.org/study/general-conference/2021/04/48teh?lang=eng\n",
            "Successfully fetched https://www.churchofjesuschrist.org/study/general-conference/2021/04/16gong?lang=eng\n",
            "Successfully fetched https://www.churchofjesuschrist.org/study/general-conference/2020/10/26holland?lang=eng\n",
            "Successfully fetched https://www.churchofjesuschrist.org/study/general-conference/2020/10/saturday-morning-session?lang=eng\n",
            "Successfully fetched https://www.churchofjesuschrist.org/study/general-conference/2020/10/28uchtdorf?lang=eng\n",
            "Successfully fetched https://www.churchofjesuschrist.org/study/general-conference/2020/10/31eubank?lang=eng\n"
          ]
        },
        {
          "output_type": "stream",
          "name": "stderr",
          "text": [
            "Scraping talks in parallel:  58%|█████▊    | 298/513 [00:38<00:20, 10.74it/s]"
          ]
        },
        {
          "output_type": "stream",
          "name": "stdout",
          "text": [
            "Successfully fetched https://www.churchofjesuschrist.org/study/general-conference/2020/10/35eyring?lang=eng\n",
            "Successfully fetched https://www.churchofjesuschrist.org/study/general-conference/2020/10/58nelson?lang=eng\n",
            "Successfully fetched https://www.churchofjesuschrist.org/study/general-conference/2020/10/43soares?lang=eng\n",
            "Successfully fetched https://www.churchofjesuschrist.org/study/general-conference/2020/10/53stevenson?lang=eng\n",
            "Successfully fetched https://www.churchofjesuschrist.org/study/general-conference/2020/10/52jaggi?lang=eng\n",
            "Successfully fetched https://www.churchofjesuschrist.org/study/general-conference/2020/10/44godoy?lang=eng\n",
            "Successfully fetched https://www.churchofjesuschrist.org/study/general-conference/2020/10/13whiting?lang=eng\n",
            "Successfully fetched https://www.churchofjesuschrist.org/study/general-conference/2020/10/32craven?lang=eng\n",
            "Successfully fetched https://www.churchofjesuschrist.org/study/general-conference/2020/10/57holland?lang=eng\n",
            "Successfully fetched https://www.churchofjesuschrist.org/study/general-conference/2020/10/55renlund?lang=eng\n",
            "Successfully fetched https://www.churchofjesuschrist.org/study/general-conference/2020/10/36oaks?lang=eng\n",
            "Successfully fetched https://www.churchofjesuschrist.org/study/general-conference/2020/10/16rasband?lang=eng\n"
          ]
        },
        {
          "output_type": "stream",
          "name": "stderr",
          "text": [
            "Scraping talks in parallel:  59%|█████▉    | 304/513 [00:39<00:26,  7.99it/s]"
          ]
        },
        {
          "output_type": "stream",
          "name": "stdout",
          "text": [
            "Successfully fetched https://www.churchofjesuschrist.org/study/general-conference/2020/10/17oaks?lang=eng\n",
            "Successfully fetched https://www.churchofjesuschrist.org/study/general-conference/2020/10/45andersen?lang=engSuccessfully fetched https://www.churchofjesuschrist.org/study/general-conference/2020/10/33video?lang=eng\n",
            "\n",
            "Successfully fetched https://www.churchofjesuschrist.org/study/general-conference/2020/10/56johnson?lang=eng\n"
          ]
        },
        {
          "output_type": "stream",
          "name": "stderr",
          "text": [
            "\rScraping talks in parallel:  61%|██████    | 313/513 [00:40<00:14, 13.85it/s]"
          ]
        },
        {
          "output_type": "stream",
          "name": "stdout",
          "text": [
            "Successfully fetched https://www.churchofjesuschrist.org/study/general-conference/2020/10/11nelson?lang=eng\n",
            "Successfully fetched https://www.churchofjesuschrist.org/study/general-conference/2020/10/25waddell?lang=eng\n",
            "Successfully fetched https://www.churchofjesuschrist.org/study/general-conference/2020/10/27jackson?lang=eng\n",
            "Successfully fetched https://www.churchofjesuschrist.org/study/general-conference/2020/10/21eyring?lang=eng\n",
            "Successfully fetched https://www.churchofjesuschrist.org/study/general-conference/2020/10/37nelson?lang=eng\n",
            "Successfully fetched https://www.churchofjesuschrist.org/study/general-conference/2020/10/15cook?lang=eng\n",
            "Successfully fetched https://www.churchofjesuschrist.org/study/general-conference/2020/10/23lund?lang=eng\n",
            "Successfully fetched https://www.churchofjesuschrist.org/study/general-conference/2020/10/22christofferson?lang=eng\n",
            "Successfully fetched https://www.churchofjesuschrist.org/study/general-conference/2020/10/34franco?lang=eng\n"
          ]
        },
        {
          "output_type": "stream",
          "name": "stderr",
          "text": [
            "Scraping talks in parallel:  63%|██████▎   | 324/513 [00:41<00:16, 11.46it/s]"
          ]
        },
        {
          "output_type": "stream",
          "name": "stdout",
          "text": [
            "Successfully fetched https://www.churchofjesuschrist.org/study/general-conference/2020/10/51eyring?lang=eng\n",
            "Successfully fetched https://www.churchofjesuschrist.org/study/general-conference/2020/10/41ballard?lang=eng\n",
            "Successfully fetched https://www.churchofjesuschrist.org/study/general-conference/2020/10/46nelson?lang=eng\n"
          ]
        },
        {
          "output_type": "stream",
          "name": "stderr",
          "text": [
            "Scraping talks in parallel:  64%|██████▍   | 328/513 [00:41<00:15, 12.25it/s]"
          ]
        },
        {
          "output_type": "stream",
          "name": "stdout",
          "text": [
            "Successfully fetched https://www.churchofjesuschrist.org/study/general-conference/2020/10/54camargo?lang=eng\n",
            "Successfully fetched https://www.churchofjesuschrist.org/study/general-conference/2020/04/11nelson?lang=eng\n",
            "Successfully fetched https://www.churchofjesuschrist.org/study/general-conference/2020/10/12bednar?lang=eng\n",
            "Successfully fetched https://www.churchofjesuschrist.org/study/general-conference/2020/10/42harkness?lang=eng\n",
            "Successfully fetched https://www.churchofjesuschrist.org/study/general-conference/2020/10/24gong?lang=eng\n",
            "Successfully fetched https://www.churchofjesuschrist.org/study/general-conference/2020/04/55clayton?lang=eng\n",
            "Successfully fetched https://www.churchofjesuschrist.org/study/general-conference/2020/04/56christofferson?lang=eng\n",
            "Successfully fetched https://www.churchofjesuschrist.org/study/general-conference/2020/04/16holmes?lang=eng\n",
            "Successfully fetched https://www.churchofjesuschrist.org/study/general-conference/2020/10/14craig?lang=eng\n",
            "Successfully fetched https://www.churchofjesuschrist.org/study/general-conference/2020/04/37nelson?lang=eng\n"
          ]
        },
        {
          "output_type": "stream",
          "name": "stderr",
          "text": [
            "Scraping talks in parallel:  66%|██████▌   | 339/513 [00:43<00:17, 10.20it/s]"
          ]
        },
        {
          "output_type": "stream",
          "name": "stdout",
          "text": [
            "Successfully fetched https://www.churchofjesuschrist.org/study/general-conference/2020/04/46nelson?lang=eng\n",
            "Successfully fetched https://www.churchofjesuschrist.org/study/general-conference/2020/04/14jones?lang=eng\n",
            "Successfully fetched https://www.churchofjesuschrist.org/study/general-conference/2020/04/24mccune?lang=eng\n",
            "Successfully fetched https://www.churchofjesuschrist.org/study/general-conference/2020/04/17eyring?lang=eng\n",
            "Successfully fetched https://www.churchofjesuschrist.org/study/general-conference/2020/04/12ballard?lang=engSuccessfully fetched https://www.churchofjesuschrist.org/study/general-conference/2020/04/15andersen?lang=eng\n",
            "Successfully fetched https://www.churchofjesuschrist.org/study/general-conference/2020/04/51oaks?lang=eng\n",
            "Successfully fetched https://www.churchofjesuschrist.org/study/general-conference/2020/04/32alvarez?lang=eng\n",
            "Successfully fetched https://www.churchofjesuschrist.org/study/general-conference/2020/04/23soares?lang=eng\n",
            "\n",
            "Successfully fetched https://www.churchofjesuschrist.org/study/general-conference/2020/04/34bingham?lang=eng\n"
          ]
        },
        {
          "output_type": "stream",
          "name": "stderr",
          "text": [
            "Scraping talks in parallel:  67%|██████▋   | 345/513 [00:44<00:18,  8.93it/s]"
          ]
        },
        {
          "output_type": "stream",
          "name": "stdout",
          "text": [
            "Successfully fetched https://www.churchofjesuschrist.org/study/general-conference/2020/04/13rasband?lang=eng\n",
            "Successfully fetched https://www.churchofjesuschrist.org/study/general-conference/2020/04/28stevenson?lang=eng\n"
          ]
        },
        {
          "output_type": "stream",
          "name": "stderr",
          "text": [
            "\rScraping talks in parallel:  68%|██████▊   | 348/513 [00:44<00:15, 10.75it/s]"
          ]
        },
        {
          "output_type": "stream",
          "name": "stdout",
          "text": [
            "Successfully fetched https://www.churchofjesuschrist.org/study/general-conference/2020/04/45nelson?lang=eng\n",
            "Successfully fetched https://www.churchofjesuschrist.org/study/general-conference/2020/04/53gimenez?lang=eng\n",
            "Successfully fetched https://www.churchofjesuschrist.org/study/general-conference/2020/04/26renlund?lang=eng\n",
            "Successfully fetched https://www.churchofjesuschrist.org/study/general-conference/2020/04/43holland?lang=eng\n",
            "Successfully fetched https://www.churchofjesuschrist.org/study/general-conference/2020/04/54uchtdorf?lang=eng\n",
            "Successfully fetched https://www.churchofjesuschrist.org/study/general-conference/2020/04/21oaks?lang=eng\n",
            "Successfully fetched https://www.churchofjesuschrist.org/study/general-conference/2020/04/27tai?lang=eng\n",
            "Successfully fetched https://www.churchofjesuschrist.org/study/general-conference/2020/04/33petelo?lang=eng\n"
          ]
        },
        {
          "output_type": "stream",
          "name": "stderr",
          "text": [
            "\rScraping talks in parallel:  68%|██████▊   | 351/513 [00:45<00:20,  7.83it/s]"
          ]
        },
        {
          "output_type": "stream",
          "name": "stdout",
          "text": [
            "Successfully fetched https://www.churchofjesuschrist.org/study/general-conference/2020/04/41rasband?lang=eng\n",
            "Successfully fetched https://www.churchofjesuschrist.org/study/general-conference/2020/04/31gong?lang=eng\n",
            "Successfully fetched https://www.churchofjesuschrist.org/study/general-conference/2020/04/25causse?lang=eng\n"
          ]
        },
        {
          "output_type": "stream",
          "name": "stderr",
          "text": [
            "\rScraping talks in parallel:  69%|██████▉   | 354/513 [00:45<00:19,  8.33it/s]"
          ]
        },
        {
          "output_type": "stream",
          "name": "stdout",
          "text": [
            "Successfully fetched https://www.churchofjesuschrist.org/study/general-conference/2020/04/saturday-morning-session?lang=eng\n",
            "Successfully fetched https://www.churchofjesuschrist.org/study/general-conference/2020/04/52cook?lang=eng\n",
            "Successfully fetched https://www.churchofjesuschrist.org/study/general-conference/2020/04/42cordon?lang=eng\n",
            "Successfully fetched https://www.churchofjesuschrist.org/study/general-conference/2020/04/44bednar?lang=eng\n",
            "Successfully fetched https://www.churchofjesuschrist.org/study/general-conference/2020/04/57nelson?lang=eng\n",
            "Successfully fetched https://www.churchofjesuschrist.org/study/general-conference/2020/04/22jergensen?lang=eng\n",
            "Successfully fetched https://www.churchofjesuschrist.org/study/general-conference/2020/04/35eyring?lang=eng\n",
            "Successfully fetched https://www.churchofjesuschrist.org/study/general-conference/2020/04/36oaks?lang=engSuccessfully fetched https://www.churchofjesuschrist.org/study/general-conference/2019/10/15craig?lang=eng\n",
            "\n",
            "Successfully fetched https://www.churchofjesuschrist.org/study/general-conference/2019/10/57nelson?lang=eng\n"
          ]
        },
        {
          "output_type": "stream",
          "name": "stderr",
          "text": [
            "Scraping talks in parallel:  72%|███████▏  | 370/513 [00:46<00:09, 14.86it/s]"
          ]
        },
        {
          "output_type": "stream",
          "name": "stdout",
          "text": [
            "Successfully fetched https://www.churchofjesuschrist.org/study/general-conference/2019/10/36nelson?lang=eng\n",
            "Successfully fetched https://www.churchofjesuschrist.org/study/general-conference/2019/10/24nelson?lang=eng\n",
            "Successfully fetched https://www.churchofjesuschrist.org/study/general-conference/2019/10/52boom?lang=eng\n",
            "Successfully fetched https://www.churchofjesuschrist.org/study/general-conference/2019/10/21eyring?lang=eng\n",
            "Successfully fetched https://www.churchofjesuschrist.org/study/general-conference/2019/10/45stevenson?lang=eng\n",
            "Successfully fetched https://www.churchofjesuschrist.org/study/general-conference/2019/10/35oaks?lang=eng\n",
            "Successfully fetched https://www.churchofjesuschrist.org/study/general-conference/2019/10/saturday-morning-session?lang=engSuccessfully fetched https://www.churchofjesuschrist.org/study/general-conference/2019/10/54johnson?lang=eng\n",
            "\n",
            "Successfully fetched https://www.churchofjesuschrist.org/study/general-conference/2019/10/11holland?lang=eng\n",
            "Successfully fetched https://www.churchofjesuschrist.org/study/general-conference/2019/10/27budge?lang=eng\n",
            "Successfully fetched https://www.churchofjesuschrist.org/study/general-conference/2019/10/53ballard?lang=eng\n"
          ]
        },
        {
          "output_type": "stream",
          "name": "stderr",
          "text": [
            "Scraping talks in parallel:  74%|███████▎  | 378/513 [00:47<00:11, 11.92it/s]"
          ]
        },
        {
          "output_type": "stream",
          "name": "stdout",
          "text": [
            "Successfully fetched https://www.churchofjesuschrist.org/study/general-conference/2019/10/17oaks?lang=eng\n",
            "Successfully fetched https://www.churchofjesuschrist.org/study/general-conference/2019/10/51eyring?lang=eng\n"
          ]
        },
        {
          "output_type": "stream",
          "name": "stderr",
          "text": [
            "\rScraping talks in parallel:  75%|███████▍  | 384/513 [00:47<00:08, 15.58it/s]"
          ]
        },
        {
          "output_type": "stream",
          "name": "stdout",
          "text": [
            "Successfully fetched https://www.churchofjesuschrist.org/study/general-conference/2019/10/22bednar?lang=eng\n",
            "Successfully fetched https://www.churchofjesuschrist.org/study/general-conference/2019/10/41gong?lang=eng\n",
            "Successfully fetched https://www.churchofjesuschrist.org/study/general-conference/2019/10/26pace?lang=eng\n",
            "Successfully fetched https://www.churchofjesuschrist.org/study/general-conference/2019/10/14christofferson?lang=eng\n",
            "Successfully fetched https://www.churchofjesuschrist.org/study/general-conference/2019/10/34eyring?lang=engSuccessfully fetched https://www.churchofjesuschrist.org/study/general-conference/2019/10/43uchtdorf?lang=eng\n",
            "\n",
            "Successfully fetched https://www.churchofjesuschrist.org/study/general-conference/2019/10/13owen?lang=eng\n",
            "Successfully fetched https://www.churchofjesuschrist.org/study/general-conference/2019/10/12vinson?lang=engSuccessfully fetched https://www.churchofjesuschrist.org/study/general-conference/2019/10/31aburto?lang=eng\n",
            "\n",
            "Successfully fetched https://www.churchofjesuschrist.org/study/general-conference/2019/10/28alvarado?lang=eng\n",
            "Successfully fetched https://www.churchofjesuschrist.org/study/general-conference/2019/10/33cordon?lang=eng\n",
            "Successfully fetched https://www.churchofjesuschrist.org/study/general-conference/2019/10/42franco?lang=eng\n"
          ]
        },
        {
          "output_type": "stream",
          "name": "stderr",
          "text": [
            "Scraping talks in parallel:  77%|███████▋  | 395/513 [00:48<00:08, 13.26it/s]"
          ]
        },
        {
          "output_type": "stream",
          "name": "stdout",
          "text": [
            "Successfully fetched https://www.churchofjesuschrist.org/study/general-conference/2019/10/29rasband?lang=eng\n",
            "Successfully fetched https://www.churchofjesuschrist.org/study/general-conference/2019/10/46nelson?lang=eng\n"
          ]
        },
        {
          "output_type": "stream",
          "name": "stderr",
          "text": [
            "\rScraping talks in parallel:  78%|███████▊  | 399/513 [00:48<00:07, 15.25it/s]"
          ]
        },
        {
          "output_type": "stream",
          "name": "stdout",
          "text": [
            "Successfully fetched https://www.churchofjesuschrist.org/study/general-conference/2019/10/16renlund?lang=eng\n",
            "Successfully fetched https://www.churchofjesuschrist.org/study/general-conference/2019/10/55soares?lang=eng\n",
            "Successfully fetched https://www.churchofjesuschrist.org/study/general-conference/2019/10/32harkness?lang=eng\n",
            "Successfully fetched https://www.churchofjesuschrist.org/study/general-conference/2019/10/56andersen?lang=eng\n",
            "Successfully fetched https://www.churchofjesuschrist.org/study/general-conference/2019/10/44gonzalez?lang=eng\n",
            "Successfully fetched https://www.churchofjesuschrist.org/study/general-conference/2019/04/31stevenson?lang=eng\n",
            "Successfully fetched https://www.churchofjesuschrist.org/study/general-conference/2019/10/23alliaud?lang=eng\n",
            "Successfully fetched https://www.churchofjesuschrist.org/study/general-conference/2019/04/34eyring?lang=eng\n",
            "Successfully fetched https://www.churchofjesuschrist.org/study/general-conference/2019/10/25cook?lang=eng\n",
            "Successfully fetched https://www.churchofjesuschrist.org/study/general-conference/2019/04/26wada?lang=eng\n"
          ]
        },
        {
          "output_type": "stream",
          "name": "stderr",
          "text": [
            "\rScraping talks in parallel:  79%|███████▊  | 403/513 [00:49<00:10, 10.29it/s]"
          ]
        },
        {
          "output_type": "stream",
          "name": "stdout",
          "text": [
            "Successfully fetched https://www.churchofjesuschrist.org/study/general-conference/2019/04/57nelson?lang=eng\n",
            "Successfully fetched https://www.churchofjesuschrist.org/study/general-conference/2019/04/51oaks?lang=eng\n",
            "Successfully fetched https://www.churchofjesuschrist.org/study/general-conference/2019/04/43cook?lang=eng\n",
            "Successfully fetched https://www.churchofjesuschrist.org/study/general-conference/2019/04/11soares?lang=eng\n",
            "Successfully fetched https://www.churchofjesuschrist.org/study/general-conference/2019/04/23ballard?lang=eng\n",
            "Successfully fetched https://www.churchofjesuschrist.org/study/general-conference/2019/04/12craven?lang=eng\n",
            "Successfully fetched https://www.churchofjesuschrist.org/study/general-conference/2019/04/32cook?lang=eng\n",
            "Successfully fetched https://www.churchofjesuschrist.org/study/general-conference/2019/04/14uchtdorf?lang=eng\n",
            "Successfully fetched https://www.churchofjesuschrist.org/study/general-conference/2019/04/13hales?lang=eng\n"
          ]
        },
        {
          "output_type": "stream",
          "name": "stderr",
          "text": [
            "\rScraping talks in parallel:  80%|████████  | 411/513 [00:50<00:10,  9.93it/s]"
          ]
        },
        {
          "output_type": "stream",
          "name": "stdout",
          "text": [
            "Successfully fetched https://www.churchofjesuschrist.org/study/general-conference/2019/04/16eyring?lang=eng\n",
            "Successfully fetched https://www.churchofjesuschrist.org/study/general-conference/2019/04/22jergensen?lang=eng\n",
            "Successfully fetched https://www.churchofjesuschrist.org/study/general-conference/2019/04/52villar?lang=eng\n"
          ]
        },
        {
          "output_type": "stream",
          "name": "stderr",
          "text": [
            "\rScraping talks in parallel:  81%|████████  | 414/513 [00:50<00:09, 10.13it/s]"
          ]
        },
        {
          "output_type": "stream",
          "name": "stdout",
          "text": [
            "Successfully fetched https://www.churchofjesuschrist.org/study/general-conference/2019/04/55mckay?lang=eng\n",
            "Successfully fetched https://www.churchofjesuschrist.org/study/general-conference/2019/04/44christofferson?lang=eng\n",
            "Successfully fetched https://www.churchofjesuschrist.org/study/general-conference/2019/04/46nelson?lang=eng\n"
          ]
        },
        {
          "output_type": "stream",
          "name": "stderr",
          "text": [
            "\rScraping talks in parallel:  82%|████████▏ | 421/513 [00:50<00:06, 14.11it/s]"
          ]
        },
        {
          "output_type": "stream",
          "name": "stdout",
          "text": [
            "Successfully fetched https://www.churchofjesuschrist.org/study/general-conference/2019/04/45callister?lang=eng\n",
            "Successfully fetched https://www.churchofjesuschrist.org/study/general-conference/2019/04/36nelson?lang=eng\n",
            "Successfully fetched https://www.churchofjesuschrist.org/study/general-conference/2019/04/35oaks?lang=eng\n",
            "Successfully fetched https://www.churchofjesuschrist.org/study/general-conference/2019/04/28holland?lang=eng\n"
          ]
        },
        {
          "output_type": "stream",
          "name": "stderr",
          "text": [
            "\rScraping talks in parallel:  83%|████████▎ | 424/513 [00:51<00:06, 13.31it/s]"
          ]
        },
        {
          "output_type": "stream",
          "name": "stdout",
          "text": [
            "Successfully fetched https://www.churchofjesuschrist.org/study/general-conference/2019/04/24held?lang=eng\n",
            "Successfully fetched https://www.churchofjesuschrist.org/study/general-conference/2019/04/53gong?lang=eng\n",
            "Successfully fetched https://www.churchofjesuschrist.org/study/general-conference/2019/04/25andersen?lang=eng\n"
          ]
        },
        {
          "output_type": "stream",
          "name": "stderr",
          "text": [
            "Scraping talks in parallel:  84%|████████▎ | 429/513 [00:51<00:06, 12.10it/s]"
          ]
        },
        {
          "output_type": "stream",
          "name": "stdout",
          "text": [
            "Successfully fetched https://www.churchofjesuschrist.org/study/general-conference/2019/04/15waddell?lang=eng\n",
            "Successfully fetched https://www.churchofjesuschrist.org/study/general-conference/2019/04/33clark?lang=eng\n",
            "Successfully fetched https://www.churchofjesuschrist.org/study/general-conference/2019/04/42eubank?lang=eng\n",
            "Successfully fetched https://www.churchofjesuschrist.org/study/general-conference/2019/04/54bednar?lang=eng\n"
          ]
        },
        {
          "output_type": "stream",
          "name": "stderr",
          "text": [
            "\rScraping talks in parallel:  84%|████████▍ | 432/513 [00:51<00:05, 13.60it/s]"
          ]
        },
        {
          "output_type": "stream",
          "name": "stdout",
          "text": [
            "Successfully fetched https://www.churchofjesuschrist.org/study/general-conference/2019/04/41renlund?lang=eng\n",
            "Successfully fetched https://www.churchofjesuschrist.org/study/general-conference/2019/04/56rasband?lang=eng\n",
            "Successfully fetched https://www.churchofjesuschrist.org/study/general-conference/2019/04/21oaks?lang=eng\n",
            "Successfully fetched https://www.churchofjesuschrist.org/study/general-conference/2018/10/choose-you-this-day?lang=eng\n",
            "Successfully fetched https://www.churchofjesuschrist.org/study/general-conference/2019/04/saturday-morning-session?lang=eng\n",
            "Successfully fetched https://www.churchofjesuschrist.org/study/general-conference/2018/10/lift-up-your-head-and-rejoice?lang=eng\n",
            "Successfully fetched https://www.churchofjesuschrist.org/study/general-conference/2018/10/the-ministry-of-reconciliation?lang=eng\n",
            "Successfully fetched https://www.churchofjesuschrist.org/study/general-conference/2018/10/firm-and-steadfast-in-the-faith-of-christ?lang=eng\n",
            "Successfully fetched https://www.churchofjesuschrist.org/study/general-conference/2018/10/divine-discontent?lang=eng\n",
            "Successfully fetched https://www.churchofjesuschrist.org/study/general-conference/2019/04/27homer?lang=eng\n"
          ]
        },
        {
          "output_type": "stream",
          "name": "stderr",
          "text": [
            "\rScraping talks in parallel:  85%|████████▍ | 435/513 [00:52<00:11,  6.77it/s]"
          ]
        },
        {
          "output_type": "stream",
          "name": "stdout",
          "text": [
            "Successfully fetched https://www.churchofjesuschrist.org/study/general-conference/2018/10/the-father?lang=eng\n",
            "Successfully fetched https://www.churchofjesuschrist.org/study/general-conference/2018/10/becoming-a-shepherd?lang=eng\n",
            "Successfully fetched https://www.churchofjesuschrist.org/study/general-conference/2018/10/wilt-thou-be-made-whole?lang=eng\n"
          ]
        },
        {
          "output_type": "stream",
          "name": "stderr",
          "text": [
            "\rScraping talks in parallel:  87%|████████▋ | 445/513 [00:52<00:05, 13.30it/s]"
          ]
        },
        {
          "output_type": "stream",
          "name": "stdout",
          "text": [
            "Successfully fetched https://www.churchofjesuschrist.org/study/general-conference/2018/10/wounded?lang=eng\n",
            "Successfully fetched https://www.churchofjesuschrist.org/study/general-conference/2018/10/becoming-exemplary-latter-day-saints?lang=eng\n"
          ]
        },
        {
          "output_type": "stream",
          "name": "stderr",
          "text": [
            "\rScraping talks in parallel:  87%|████████▋ | 448/513 [00:53<00:04, 13.56it/s]"
          ]
        },
        {
          "output_type": "stream",
          "name": "stdout",
          "text": [
            "Successfully fetched https://www.churchofjesuschrist.org/study/general-conference/2018/10/deep-and-lasting-conversion-to-heavenly-father-and-the-lord-jesus-christ?lang=eng\n",
            "Successfully fetched https://www.churchofjesuschrist.org/study/general-conference/2018/10/our-campfire-of-faith?lang=eng\n",
            "Successfully fetched https://www.churchofjesuschrist.org/study/general-conference/2018/10/all-must-take-upon-them-the-name-given-of-the-father?lang=eng\n",
            "Successfully fetched https://www.churchofjesuschrist.org/study/general-conference/2018/10/gather-together-in-one-all-things-in-christ?lang=eng\n",
            "Successfully fetched https://www.churchofjesuschrist.org/study/general-conference/2018/10/sisters-participation-in-the-gathering-of-israel?lang=eng\n",
            "Successfully fetched https://www.churchofjesuschrist.org/study/general-conference/2018/10/taking-upon-ourselves-the-name-of-jesus-christ?lang=eng\n",
            "Successfully fetched https://www.churchofjesuschrist.org/study/general-conference/2018/10/opening-remarks?lang=eng\n",
            "Successfully fetched https://www.churchofjesuschrist.org/study/general-conference/2018/10/the-correct-name-of-the-church?lang=eng\n",
            "Successfully fetched https://www.churchofjesuschrist.org/study/general-conference/2018/10/laying-the-foundation-of-a-great-work?lang=eng\n"
          ]
        },
        {
          "output_type": "stream",
          "name": "stderr",
          "text": [
            "Scraping talks in parallel:  88%|████████▊ | 454/513 [00:54<00:06,  9.53it/s]"
          ]
        },
        {
          "output_type": "stream",
          "name": "stdout",
          "text": [
            "Successfully fetched https://www.churchofjesuschrist.org/study/general-conference/2018/10/saturday-morning-session?lang=eng\n",
            "Successfully fetched https://www.churchofjesuschrist.org/study/general-conference/2018/10/the-sustaining-of-church-officers?lang=eng\n"
          ]
        },
        {
          "output_type": "stream",
          "name": "stderr",
          "text": [
            "Scraping talks in parallel:  90%|████████▉ | 461/513 [00:54<00:04, 12.29it/s]"
          ]
        },
        {
          "output_type": "stream",
          "name": "stdout",
          "text": [
            "Successfully fetched https://www.churchofjesuschrist.org/study/general-conference/2018/10/parents-and-children?lang=eng\n",
            "Successfully fetched https://www.churchofjesuschrist.org/study/general-conference/2018/10/for-him?lang=eng\n",
            "Successfully fetched https://www.churchofjesuschrist.org/study/general-conference/2018/10/truth-and-the-plan?lang=eng\n",
            "Successfully fetched https://www.churchofjesuschrist.org/study/general-conference/2018/10/come-listen-to-a-prophets-voice?lang=eng\n",
            "Successfully fetched https://www.churchofjesuschrist.org/study/general-conference/2018/10/the-vision-of-the-redemption-of-the-dead?lang=eng\n",
            "Successfully fetched https://www.churchofjesuschrist.org/study/general-conference/2018/10/the-role-of-the-book-of-mormon-in-conversion?lang=eng\n",
            "Successfully fetched https://www.churchofjesuschrist.org/study/general-conference/2018/10/try-try-try?lang=eng\n",
            "Successfully fetched https://www.churchofjesuschrist.org/study/general-conference/2018/10/women-and-gospel-learning-in-the-home?lang=eng\n",
            "Successfully fetched https://www.churchofjesuschrist.org/study/general-conference/2018/10/be-not-troubled?lang=eng\n",
            "Successfully fetched https://www.churchofjesuschrist.org/study/general-conference/2018/10/believe-love-do?lang=eng\n",
            "Successfully fetched https://www.churchofjesuschrist.org/study/general-conference/2018/10/the-joy-of-unselfish-service?lang=eng\n",
            "Successfully fetched https://www.churchofjesuschrist.org/study/general-conference/2018/10/now-is-the-time?lang=eng\n"
          ]
        },
        {
          "output_type": "stream",
          "name": "stderr",
          "text": [
            "Scraping talks in parallel:  92%|█████████▏| 471/513 [00:56<00:04,  9.04it/s]"
          ]
        },
        {
          "output_type": "stream",
          "name": "stdout",
          "text": [
            "Successfully fetched https://www.churchofjesuschrist.org/study/general-conference/2018/10/shepherding-souls?lang=eng\n",
            "Successfully fetched https://www.churchofjesuschrist.org/study/general-conference/2018/10/one-in-christ?lang=eng\n",
            "Successfully fetched https://www.churchofjesuschrist.org/study/general-conference/2018/04/revelation-for-the-church-revelation-for-our-lives?lang=eng\n"
          ]
        },
        {
          "output_type": "stream",
          "name": "stderr",
          "text": [
            "\rScraping talks in parallel:  92%|█████████▏| 474/513 [00:56<00:03, 10.55it/s]"
          ]
        },
        {
          "output_type": "stream",
          "name": "stdout",
          "text": [
            "Successfully fetched https://www.churchofjesuschrist.org/study/general-conference/2018/04/the-prophet-of-god?lang=eng\n",
            "Successfully fetched https://www.churchofjesuschrist.org/study/general-conference/2018/04/young-women-in-the-work?lang=eng\n",
            "Successfully fetched https://www.churchofjesuschrist.org/study/general-conference/2018/04/the-elders-quorum?lang=eng\n",
            "Successfully fetched https://www.churchofjesuschrist.org/study/general-conference/2018/04/until-seventy-times-seven?lang=eng\n",
            "Successfully fetched https://www.churchofjesuschrist.org/study/general-conference/2018/04/ministering-with-the-power-and-authority-of-god?lang=eng\n",
            "Successfully fetched https://www.churchofjesuschrist.org/study/general-conference/2018/04/what-every-aaronic-priesthood-holder-needs-to-understand?lang=eng\n",
            "Successfully fetched https://www.churchofjesuschrist.org/study/general-conference/2018/04/inspired-ministering?lang=eng\n",
            "Successfully fetched https://www.churchofjesuschrist.org/study/general-conference/2018/04/ministering?lang=eng\n"
          ]
        },
        {
          "output_type": "stream",
          "name": "stderr",
          "text": [
            "\rScraping talks in parallel:  93%|█████████▎| 477/513 [00:57<00:04,  7.21it/s]"
          ]
        },
        {
          "output_type": "stream",
          "name": "stdout",
          "text": [
            "Successfully fetched https://www.churchofjesuschrist.org/study/general-conference/2018/04/behold-the-man?lang=eng\n",
            "Successfully fetched https://www.churchofjesuschrist.org/study/general-conference/2018/04/the-heart-of-a-prophet?lang=engSuccessfully fetched https://www.churchofjesuschrist.org/study/general-conference/2018/04/small-and-simple-things?lang=eng\n",
            "Successfully fetched https://www.churchofjesuschrist.org/study/general-conference/2018/04/church-auditing-department-report-2017?lang=eng\n",
            "\n",
            "Successfully fetched https://www.churchofjesuschrist.org/study/general-conference/2018/04/be-with-and-strengthen-them?lang=eng\n"
          ]
        },
        {
          "output_type": "stream",
          "name": "stderr",
          "text": [
            "Scraping talks in parallel:  95%|█████████▍| 486/513 [00:57<00:02, 11.82it/s]"
          ]
        },
        {
          "output_type": "stream",
          "name": "stdout",
          "text": [
            "Successfully fetched https://www.churchofjesuschrist.org/study/general-conference/2018/04/it-is-all-about-people?lang=eng\n",
            "Successfully fetched https://www.churchofjesuschrist.org/study/general-conference/2018/04/solemn-assembly?lang=eng\n",
            "Successfully fetched https://www.churchofjesuschrist.org/study/general-conference/2018/04/family-history-and-temple-work-sealing-and-healing?lang=eng\n",
            "Successfully fetched https://www.churchofjesuschrist.org/study/general-conference/2018/04/even-as-christ-forgives-you-so-also-do-ye?lang=eng\n"
          ]
        },
        {
          "output_type": "stream",
          "name": "stderr",
          "text": [
            "\rScraping talks in parallel:  96%|█████████▌| 490/513 [00:57<00:01, 12.02it/s]"
          ]
        },
        {
          "output_type": "stream",
          "name": "stdout",
          "text": [
            "Successfully fetched https://www.churchofjesuschrist.org/study/general-conference/2018/04/christ-the-lord-is-risen-today?lang=eng\n",
            "Successfully fetched https://www.churchofjesuschrist.org/study/general-conference/2018/04/am-i-a-child-of-god?lang=eng\n",
            "Successfully fetched https://www.churchofjesuschrist.org/study/general-conference/2018/04/ministering-as-the-savior-does?lang=engSuccessfully fetched https://www.churchofjesuschrist.org/study/general-conference/2018/04/with-one-accord?lang=eng\n",
            "\n",
            "Successfully fetched https://www.churchofjesuschrist.org/study/general-conference/2018/04/prepare-to-meet-god?lang=eng\n",
            "Successfully fetched https://www.churchofjesuschrist.org/study/general-conference/2018/04/meek-and-lowly-of-heart?lang=eng\n"
          ]
        },
        {
          "output_type": "stream",
          "name": "stderr",
          "text": [
            "\rScraping talks in parallel:  96%|█████████▌| 492/513 [00:58<00:02,  7.53it/s]"
          ]
        },
        {
          "output_type": "stream",
          "name": "stdout",
          "text": [
            "Successfully fetched https://www.churchofjesuschrist.org/study/general-conference/2018/04/introductory-remarks?lang=eng\n",
            "Successfully fetched https://www.churchofjesuschrist.org/study/general-conference/2018/04/saving-ordinances-will-bring-us-marvelous-light?lang=eng\n",
            "Successfully fetched https://www.churchofjesuschrist.org/study/general-conference/2018/04/precious-gifts-from-god?lang=eng\n"
          ]
        },
        {
          "output_type": "stream",
          "name": "stderr",
          "text": [
            "\rScraping talks in parallel:  98%|█████████▊| 501/513 [00:58<00:00, 13.65it/s]"
          ]
        },
        {
          "output_type": "stream",
          "name": "stdout",
          "text": [
            "Successfully fetched https://www.churchofjesuschrist.org/study/general-conference/2018/04/he-that-shall-endure-unto-the-end-the-same-shall-be-saved?lang=eng\n",
            "Successfully fetched https://www.churchofjesuschrist.org/study/general-conference/2018/04/one-more-day?lang=eng\n",
            "Successfully fetched https://www.churchofjesuschrist.org/study/general-conference/2018/04/his-spirit-to-be-with-you?lang=eng\n",
            "Successfully fetched https://www.churchofjesuschrist.org/study/general-conference/2018/04/the-powers-of-the-priesthood?lang=eng\n",
            "Successfully fetched https://www.churchofjesuschrist.org/study/general-conference/2018/04/behold-a-royal-army?lang=eng\n",
            "Successfully fetched https://www.churchofjesuschrist.org/study/general-conference/2018/04/take-the-holy-spirit-as-your-guide?lang=eng\n"
          ]
        },
        {
          "output_type": "stream",
          "name": "stderr",
          "text": [
            "\rScraping talks in parallel:  98%|█████████▊| 504/513 [00:59<00:00, 11.77it/s]"
          ]
        },
        {
          "output_type": "stream",
          "name": "stdout",
          "text": [
            "Successfully fetched https://www.churchofjesuschrist.org/study/general-conference/2018/04/pure-love-the-true-sign-of-every-true-disciple-of-jesus-christ?lang=eng\n",
            "Successfully fetched https://www.churchofjesuschrist.org/study/general-conference/2018/04/teaching-in-the-home-a-joyful-and-sacred-responsibility?lang=eng\n",
            "Successfully fetched https://www.churchofjesuschrist.org/study/general-conference/2018/04/the-sustaining-of-church-officers?lang=engSuccessfully fetched https://www.churchofjesuschrist.org/study/general-conference/2018/04/let-us-all-press-on?lang=eng\n",
            "\n"
          ]
        },
        {
          "output_type": "stream",
          "name": "stderr",
          "text": [
            "Scraping talks in parallel: 100%|██████████| 513/513 [00:59<00:00,  8.59it/s]"
          ]
        },
        {
          "output_type": "stream",
          "name": "stdout",
          "text": [
            "Successfully fetched https://www.churchofjesuschrist.org/study/general-conference/2018/04/saturday-morning-session?lang=eng\n",
            "Successfully fetched https://www.churchofjesuschrist.org/study/general-conference/2018/04/prophets-speak-by-the-power-of-the-holy-spirit?lang=eng\n"
          ]
        },
        {
          "output_type": "stream",
          "name": "stderr",
          "text": [
            "\n"
          ]
        },
        {
          "output_type": "stream",
          "name": "stdout",
          "text": [
            "Scraping complete. Data saved to 'conference_talks.csv'.\n",
            "Data also saved to 'conference_talks.json'.\n",
            "Total time taken: 75.74509763717651 seconds\n"
          ]
        }
      ]
    },
    {
      "cell_type": "code",
      "source": [
        "from google.colab import files\n",
        "files.download('conference_talks.csv')\n"
      ],
      "metadata": {
        "colab": {
          "base_uri": "https://localhost:8080/",
          "height": 17
        },
        "id": "xUHjf5EE9Oz-",
        "outputId": "3457b327-eefe-4629-f136-7706df4d8090"
      },
      "execution_count": 3,
      "outputs": [
        {
          "output_type": "display_data",
          "data": {
            "text/plain": [
              "<IPython.core.display.Javascript object>"
            ],
            "application/javascript": [
              "\n",
              "    async function download(id, filename, size) {\n",
              "      if (!google.colab.kernel.accessAllowed) {\n",
              "        return;\n",
              "      }\n",
              "      const div = document.createElement('div');\n",
              "      const label = document.createElement('label');\n",
              "      label.textContent = `Downloading \"${filename}\": `;\n",
              "      div.appendChild(label);\n",
              "      const progress = document.createElement('progress');\n",
              "      progress.max = size;\n",
              "      div.appendChild(progress);\n",
              "      document.body.appendChild(div);\n",
              "\n",
              "      const buffers = [];\n",
              "      let downloaded = 0;\n",
              "\n",
              "      const channel = await google.colab.kernel.comms.open(id);\n",
              "      // Send a message to notify the kernel that we're ready.\n",
              "      channel.send({})\n",
              "\n",
              "      for await (const message of channel.messages) {\n",
              "        // Send a message to notify the kernel that we're ready.\n",
              "        channel.send({})\n",
              "        if (message.buffers) {\n",
              "          for (const buffer of message.buffers) {\n",
              "            buffers.push(buffer);\n",
              "            downloaded += buffer.byteLength;\n",
              "            progress.value = downloaded;\n",
              "          }\n",
              "        }\n",
              "      }\n",
              "      const blob = new Blob(buffers, {type: 'application/binary'});\n",
              "      const a = document.createElement('a');\n",
              "      a.href = window.URL.createObjectURL(blob);\n",
              "      a.download = filename;\n",
              "      div.appendChild(a);\n",
              "      a.click();\n",
              "      div.remove();\n",
              "    }\n",
              "  "
            ]
          },
          "metadata": {}
        },
        {
          "output_type": "display_data",
          "data": {
            "text/plain": [
              "<IPython.core.display.Javascript object>"
            ],
            "application/javascript": [
              "download(\"download_a2f0f469-d429-418f-84cf-1853040f7008\", \"conference_talks.csv\", 4492159)"
            ]
          },
          "metadata": {}
        }
      ]
    },
    {
      "cell_type": "markdown",
      "source": [
        "### Clean Conference Talks Data\n",
        "\n",
        "This code block performs several cleaning operations on the scraped data:\n",
        "- Removes rows with \"Church Auditing Department\" in the calling.\n",
        "- Removes unnecessary columns, like \"conference\" and \"footnotes.\"\n",
        "- Standardizes titles for speakers and callings (e.g., \"Quorum of the 12\" and \"Seventy\").\n",
        "- Ensures uniformity across callings and speaker titles.\n",
        "- Saves the cleaned data to a CSV file for easier analysis and sharing.\n",
        "\n",
        "You can run this after scraping the data to ensure consistency and uniformity across the dataset.\n"
      ],
      "metadata": {
        "id": "KwxzUhLCYp3d"
      }
    },
    {
      "cell_type": "code",
      "source": [
        "# prompt: I need to get embeddings for all the conference talks\n",
        "\n",
        "!pip install sentence-transformers\n",
        "\n",
        "import pandas as pd\n",
        "from sentence_transformers import SentenceTransformer\n",
        "\n",
        "def generate_embeddings(csv_file):\n",
        "    \"\"\"Generates and adds sentence embeddings to a CSV file of conference talks.\"\"\"\n",
        "    try:\n",
        "        # Load the CSV file into a pandas DataFrame\n",
        "        df = pd.read_csv(csv_file)\n",
        "\n",
        "        # Initialize the sentence transformer model\n",
        "        model = SentenceTransformer('all-mpnet-base-v2')\n",
        "\n",
        "        # Generate embeddings for the 'talk' column\n",
        "        df['embeddings'] = df['talk'].apply(lambda x: model.encode(x).tolist())\n",
        "\n",
        "        # Save the updated DataFrame to a new CSV file\n",
        "        df.to_csv(\"conference_talks_with_embeddings.csv\", index=False)\n",
        "        print(\"Embeddings generated and saved to 'conference_talks_with_embeddings.csv'\")\n",
        "    except Exception as e:\n",
        "        print(f\"An error occurred: {e}\")\n",
        "\n",
        "# Example usage\n",
        "generate_embeddings(\"conference_talks.csv\")\n"
      ],
      "metadata": {
        "id": "tZuMHRqGH-bt",
        "outputId": "86eb8d47-9de0-4712-efde-916b8c0b0828",
        "colab": {
          "base_uri": "https://localhost:8080/"
        }
      },
      "execution_count": null,
      "outputs": [
        {
          "output_type": "stream",
          "name": "stdout",
          "text": [
            "Requirement already satisfied: sentence-transformers in /usr/local/lib/python3.11/dist-packages (3.3.1)\n",
            "Requirement already satisfied: transformers<5.0.0,>=4.41.0 in /usr/local/lib/python3.11/dist-packages (from sentence-transformers) (4.47.1)\n",
            "Requirement already satisfied: tqdm in /usr/local/lib/python3.11/dist-packages (from sentence-transformers) (4.67.1)\n",
            "Requirement already satisfied: torch>=1.11.0 in /usr/local/lib/python3.11/dist-packages (from sentence-transformers) (2.5.1+cu124)\n",
            "Requirement already satisfied: scikit-learn in /usr/local/lib/python3.11/dist-packages (from sentence-transformers) (1.6.1)\n",
            "Requirement already satisfied: scipy in /usr/local/lib/python3.11/dist-packages (from sentence-transformers) (1.13.1)\n",
            "Requirement already satisfied: huggingface-hub>=0.20.0 in /usr/local/lib/python3.11/dist-packages (from sentence-transformers) (0.27.1)\n",
            "Requirement already satisfied: Pillow in /usr/local/lib/python3.11/dist-packages (from sentence-transformers) (11.1.0)\n",
            "Requirement already satisfied: filelock in /usr/local/lib/python3.11/dist-packages (from huggingface-hub>=0.20.0->sentence-transformers) (3.17.0)\n",
            "Requirement already satisfied: fsspec>=2023.5.0 in /usr/local/lib/python3.11/dist-packages (from huggingface-hub>=0.20.0->sentence-transformers) (2024.10.0)\n",
            "Requirement already satisfied: packaging>=20.9 in /usr/local/lib/python3.11/dist-packages (from huggingface-hub>=0.20.0->sentence-transformers) (24.2)\n",
            "Requirement already satisfied: pyyaml>=5.1 in /usr/local/lib/python3.11/dist-packages (from huggingface-hub>=0.20.0->sentence-transformers) (6.0.2)\n",
            "Requirement already satisfied: requests in /usr/local/lib/python3.11/dist-packages (from huggingface-hub>=0.20.0->sentence-transformers) (2.32.3)\n",
            "Requirement already satisfied: typing-extensions>=3.7.4.3 in /usr/local/lib/python3.11/dist-packages (from huggingface-hub>=0.20.0->sentence-transformers) (4.12.2)\n",
            "Requirement already satisfied: networkx in /usr/local/lib/python3.11/dist-packages (from torch>=1.11.0->sentence-transformers) (3.4.2)\n",
            "Requirement already satisfied: jinja2 in /usr/local/lib/python3.11/dist-packages (from torch>=1.11.0->sentence-transformers) (3.1.5)\n",
            "Requirement already satisfied: nvidia-cuda-nvrtc-cu12==12.4.127 in /usr/local/lib/python3.11/dist-packages (from torch>=1.11.0->sentence-transformers) (12.4.127)\n",
            "Requirement already satisfied: nvidia-cuda-runtime-cu12==12.4.127 in /usr/local/lib/python3.11/dist-packages (from torch>=1.11.0->sentence-transformers) (12.4.127)\n",
            "Requirement already satisfied: nvidia-cuda-cupti-cu12==12.4.127 in /usr/local/lib/python3.11/dist-packages (from torch>=1.11.0->sentence-transformers) (12.4.127)\n",
            "Requirement already satisfied: nvidia-cudnn-cu12==9.1.0.70 in /usr/local/lib/python3.11/dist-packages (from torch>=1.11.0->sentence-transformers) (9.1.0.70)\n",
            "Requirement already satisfied: nvidia-cublas-cu12==12.4.5.8 in /usr/local/lib/python3.11/dist-packages (from torch>=1.11.0->sentence-transformers) (12.4.5.8)\n",
            "Requirement already satisfied: nvidia-cufft-cu12==11.2.1.3 in /usr/local/lib/python3.11/dist-packages (from torch>=1.11.0->sentence-transformers) (11.2.1.3)\n",
            "Requirement already satisfied: nvidia-curand-cu12==10.3.5.147 in /usr/local/lib/python3.11/dist-packages (from torch>=1.11.0->sentence-transformers) (10.3.5.147)\n",
            "Requirement already satisfied: nvidia-cusolver-cu12==11.6.1.9 in /usr/local/lib/python3.11/dist-packages (from torch>=1.11.0->sentence-transformers) (11.6.1.9)\n",
            "Requirement already satisfied: nvidia-cusparse-cu12==12.3.1.170 in /usr/local/lib/python3.11/dist-packages (from torch>=1.11.0->sentence-transformers) (12.3.1.170)\n",
            "Requirement already satisfied: nvidia-nccl-cu12==2.21.5 in /usr/local/lib/python3.11/dist-packages (from torch>=1.11.0->sentence-transformers) (2.21.5)\n",
            "Requirement already satisfied: nvidia-nvtx-cu12==12.4.127 in /usr/local/lib/python3.11/dist-packages (from torch>=1.11.0->sentence-transformers) (12.4.127)\n",
            "Requirement already satisfied: nvidia-nvjitlink-cu12==12.4.127 in /usr/local/lib/python3.11/dist-packages (from torch>=1.11.0->sentence-transformers) (12.4.127)\n",
            "Requirement already satisfied: triton==3.1.0 in /usr/local/lib/python3.11/dist-packages (from torch>=1.11.0->sentence-transformers) (3.1.0)\n",
            "Requirement already satisfied: sympy==1.13.1 in /usr/local/lib/python3.11/dist-packages (from torch>=1.11.0->sentence-transformers) (1.13.1)\n",
            "Requirement already satisfied: mpmath<1.4,>=1.1.0 in /usr/local/lib/python3.11/dist-packages (from sympy==1.13.1->torch>=1.11.0->sentence-transformers) (1.3.0)\n",
            "Requirement already satisfied: numpy>=1.17 in /usr/local/lib/python3.11/dist-packages (from transformers<5.0.0,>=4.41.0->sentence-transformers) (1.26.4)\n",
            "Requirement already satisfied: regex!=2019.12.17 in /usr/local/lib/python3.11/dist-packages (from transformers<5.0.0,>=4.41.0->sentence-transformers) (2024.11.6)\n",
            "Requirement already satisfied: tokenizers<0.22,>=0.21 in /usr/local/lib/python3.11/dist-packages (from transformers<5.0.0,>=4.41.0->sentence-transformers) (0.21.0)\n",
            "Requirement already satisfied: safetensors>=0.4.1 in /usr/local/lib/python3.11/dist-packages (from transformers<5.0.0,>=4.41.0->sentence-transformers) (0.5.2)\n",
            "Requirement already satisfied: joblib>=1.2.0 in /usr/local/lib/python3.11/dist-packages (from scikit-learn->sentence-transformers) (1.4.2)\n",
            "Requirement already satisfied: threadpoolctl>=3.1.0 in /usr/local/lib/python3.11/dist-packages (from scikit-learn->sentence-transformers) (3.5.0)\n",
            "Requirement already satisfied: MarkupSafe>=2.0 in /usr/local/lib/python3.11/dist-packages (from jinja2->torch>=1.11.0->sentence-transformers) (3.0.2)\n",
            "Requirement already satisfied: charset-normalizer<4,>=2 in /usr/local/lib/python3.11/dist-packages (from requests->huggingface-hub>=0.20.0->sentence-transformers) (3.4.1)\n",
            "Requirement already satisfied: idna<4,>=2.5 in /usr/local/lib/python3.11/dist-packages (from requests->huggingface-hub>=0.20.0->sentence-transformers) (3.10)\n",
            "Requirement already satisfied: urllib3<3,>=1.21.1 in /usr/local/lib/python3.11/dist-packages (from requests->huggingface-hub>=0.20.0->sentence-transformers) (2.3.0)\n",
            "Requirement already satisfied: certifi>=2017.4.17 in /usr/local/lib/python3.11/dist-packages (from requests->huggingface-hub>=0.20.0->sentence-transformers) (2024.12.14)\n"
          ]
        }
      ]
    },
    {
      "cell_type": "code",
      "source": [],
      "metadata": {
        "id": "hs0Rvd7FOU4n"
      },
      "execution_count": null,
      "outputs": []
    },
    {
      "cell_type": "code",
      "source": [
        "# prompt: given a search term find the the top 3 most similar conference talks from the embeddings\n",
        "\n",
        "import pandas as pd\n",
        "from sentence_transformers import SentenceTransformer, util\n",
        "\n",
        "def find_similar_talks(search_term, top_k=3):\n",
        "    \"\"\"\n",
        "    Finds the top_k most similar conference talks to a given search term based on embeddings.\n",
        "    \"\"\"\n",
        "    try:\n",
        "        df = pd.read_csv(\"conference_talks_with_embeddings.csv\")\n",
        "\n",
        "        # Initialize the sentence transformer model (ensure it's the same as used for embedding generation)\n",
        "        model = SentenceTransformer('all-mpnet-base-v2')\n",
        "\n",
        "        # Generate embedding for the search term\n",
        "        search_embedding = model.encode(search_term)\n",
        "\n",
        "        # Calculate cosine similarity between the search term embedding and talk embeddings\n",
        "        similarities = []\n",
        "        for index, row in df.iterrows():\n",
        "            talk_embedding = row['embeddings']  # Assuming 'embeddings' column contains the embeddings\n",
        "            if isinstance(talk_embedding, str): # Handle the case where embeddings are a string\n",
        "              talk_embedding = eval(talk_embedding) # Convert back to a list of floats\n",
        "            similarity = util.cos_sim(search_embedding, talk_embedding)\n",
        "            similarities.append((index, similarity.item())) # Store index and the similarity score\n",
        "\n",
        "        # Sort talks by similarity score in descending order\n",
        "        similarities.sort(key=lambda x: x[1], reverse=True)\n",
        "\n",
        "        # Get the top_k most similar talks\n",
        "        top_talks = []\n",
        "        for index, similarity in similarities[:top_k]:\n",
        "            top_talks.append({\n",
        "                \"title\": df.iloc[index]['title'],\n",
        "                \"speaker\": df.iloc[index]['speaker'],\n",
        "                \"year\": df.iloc[index]['year'],\n",
        "                \"similarity\": similarity,\n",
        "                \"text\": df.iloc[index]['talk']\n",
        "            })\n",
        "\n",
        "        return top_talks\n",
        "\n",
        "    except FileNotFoundError:\n",
        "        print(\"Error: 'conference_talks_with_embeddings.csv' not found.\")\n",
        "        return []\n",
        "    except Exception as e:\n",
        "        print(f\"An error occurred: {e}\")\n",
        "        return []\n",
        "\n",
        "\n",
        "# Example usage\n",
        "#search_term = \"building temples\"  # Replace with your search term\n",
        "search_term = \"serious depression\"  # Replace with your search term\n",
        "similar_talks = find_similar_talks(search_term)\n",
        "\n",
        "if similar_talks:\n",
        "    print(f\"Top 3 most similar talks to '{search_term}':\")\n",
        "    for talk in similar_talks:\n",
        "        print(f\"- Title: {talk['title']}, Speaker: {talk['speaker']}, Year: {talk['year']}, Similarity: {talk['similarity']:.4f}, {talk['text']}\")\n",
        "else:\n",
        "    print(\"No similar talks found.\")\n"
      ],
      "metadata": {
        "id": "DhsrXWsKOBXa"
      },
      "execution_count": null,
      "outputs": []
    }
  ]
}